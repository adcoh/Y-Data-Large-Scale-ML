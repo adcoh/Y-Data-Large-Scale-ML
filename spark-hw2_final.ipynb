{
 "cells": [
  {
   "cell_type": "code",
   "execution_count": null,
   "metadata": {},
   "outputs": [],
   "source": [
    "# Checklist:\n",
    "# AWS emr-5.29.0\n",
    "# MASTER r5d.8xlarge 1x, no EBS\n",
    "# CORE r5d.8xlarge 4x, no EBS\n",
    "# Custom bootstrap action: s3://ydatazian/bootstrap.sh\n",
    "# Allow ssh in master node security group"
   ]
  },
  {
   "cell_type": "code",
   "execution_count": 1,
   "metadata": {},
   "outputs": [],
   "source": [
    "import tqdm.notebook as tqdm\n",
    "import numpy as np\n",
    "import scipy\n",
    "import sklearn\n",
    "import matplotlib.pyplot as plt"
   ]
  },
  {
   "cell_type": "markdown",
   "metadata": {},
   "source": [
    "# SparkSession\n",
    "\n",
    "https://spark.apache.org/docs/2.4.4/api/python/pyspark.html\n",
    "\n",
    "https://spark.apache.org/docs/2.4.4/api/python/pyspark.sql.html"
   ]
  },
  {
   "cell_type": "code",
   "execution_count": 2,
   "metadata": {
    "scrolled": true
   },
   "outputs": [
    {
     "name": "stdout",
     "output_type": "stream",
     "text": [
      "NameNode: http://ec2-54-234-223-228.compute-1.amazonaws.com:50070\n",
      "YARN: http://ec2-54-234-223-228.compute-1.amazonaws.com:8088\n",
      "Spark UI: http://ec2-54-234-223-228.compute-1.amazonaws.com:20888/proxy/application_1590856126964_0002\n"
     ]
    }
   ],
   "source": [
    "import findspark\n",
    "findspark.init()\n",
    "\n",
    "import spark_utils\n",
    "from pyspark import SparkContext, SparkConf\n",
    "from pyspark.sql import SparkSession\n",
    "sc = SparkContext(\"yarn\", \"My App\", conf=spark_utils.get_spark_conf())\n",
    "se = SparkSession(sc)\n",
    "spark_utils.print_ui_links()"
   ]
  },
  {
   "cell_type": "markdown",
   "metadata": {},
   "source": [
    "# Register all tables for sql queries"
   ]
  },
  {
   "cell_type": "markdown",
   "metadata": {},
   "source": [
    "# Prepare dataset for VW\n",
    "\n",
    "We will predict a *click* based on:\n",
    "- ad_id\n",
    "- document_id\n",
    "- campaign_id\n",
    "- advertiser_id"
   ]
  },
  {
   "cell_type": "code",
   "execution_count": null,
   "metadata": {},
   "outputs": [],
   "source": [
    "%%time\n",
    "se.sql(\"\"\"\n",
    "select \n",
    "    clicks_train.clicked,\n",
    "    clicks_train.display_id,\n",
    "    clicks_train.ad_id,\n",
    "    promoted_content.document_id,\n",
    "    promoted_content.campaign_id,\n",
    "    promoted_content.advertiser_id\n",
    "from clicks_train join promoted_content on clicks_train.ad_id = promoted_content.ad_id\n",
    "\"\"\").write.parquet(\"/train_features.parquet\", mode='overwrite')"
   ]
  },
  {
   "cell_type": "code",
   "execution_count": null,
   "metadata": {},
   "outputs": [],
   "source": [
    "se.read.parquet(\"/train_features.parquet\").show(20)"
   ]
  },
  {
   "cell_type": "code",
   "execution_count": 170,
   "metadata": {},
   "outputs": [],
   "source": [
    "# Format: [Label] [Importance] [Base] [Tag]|Namespace Features |Namespace Features ... |Namespace Features\n",
    "# https://github.com/VowpalWabbit/vowpal_wabbit/wiki/Input-format\n",
    "def vw_row_mapper(row):\n",
    "    clicked = None\n",
    "    user_features = []\n",
    "    user_features.append(\"|user\")\n",
    "    doc_features = []\n",
    "    doc_features.append(\"|doc\")\n",
    "    for k, v in row.asDict().items():          \n",
    "        if k == 'clicked':\n",
    "            if v is not None:\n",
    "                clicked = '1' if v == '1' else '-1'\n",
    "            else:\n",
    "                clicked = '0'\n",
    "        elif \"NSUU\" in k:\n",
    "            if v is None:\n",
    "                v = 0\n",
    "            if \"CAT\" in k:\n",
    "                if ((\"geo\" in k) & (v!=0)):\n",
    "                    location = v.split(\">\")\n",
    "                    for loc in location:\n",
    "                        user_features.append(k+\"_\"+str(loc))\n",
    "                else:\n",
    "                    user_features.append(k+\"_\"+str(v))\n",
    "            else:\n",
    "                user_features.append(k+\":\"+str(v))\n",
    "        else:\n",
    "            if v is None:\n",
    "                v = 0\n",
    "            if \"CAT\" in k:\n",
    "                doc_features.append(k+\"_\"+str(v))\n",
    "            elif \"CON\" in k:\n",
    "                doc_features.append(k+\":\"+str(v))\n",
    "            else:\n",
    "                if v != 0:\n",
    "                    for val in v:\n",
    "                        a,b = val\n",
    "                        doc_features.append(k+\"_\"+str(a)+\":\"+str(b))\n",
    "    tag = row.NSD_CAT_dis_id + \"_\" + row.NSD_CAT_ad_id\n",
    "    return \"{} {}{} {}\".format(clicked, tag, \" \".join(user_features), \" \".join(doc_features))\n",
    "\n",
    "r = se.read.parquet(\"/vw_feat_train.parquet\").take(1)[0]\n",
    "#print(r)\n",
    "vw_row_mapper(r);"
   ]
  },
  {
   "cell_type": "code",
   "execution_count": 171,
   "metadata": {},
   "outputs": [
    {
     "name": "stdout",
     "output_type": "stream",
     "text": [
      "Deleted /vw_feat_train.txt\n",
      "CPU times: user 49.8 ms, sys: 18.8 ms, total: 68.6 ms\n",
      "Wall time: 3min 43s\n"
     ]
    }
   ],
   "source": [
    "%%time\n",
    "! hdfs dfs -rm -r /vw_feat_train.txt\n",
    "(\n",
    "    se.read.parquet(\"/vw_feat_train.parquet\")\n",
    "    .rdd\n",
    "    .map(vw_row_mapper)\n",
    "    .saveAsTextFile(\"/vw_feat_train.txt\")\n",
    ")"
   ]
  },
  {
   "cell_type": "code",
   "execution_count": 172,
   "metadata": {},
   "outputs": [
    {
     "name": "stdout",
     "output_type": "stream",
     "text": [
      "-1 12873428_466073|user NSUU_CAT_uuid_53b567c20a8eb2 NSUU_CAT_flag_ad_clicked_1 NSUU_CAT_flag_ad_seen_1 NSUU_CON_freq:0 NSUU_CAT_geo_GB NSUU_CAT_platform_3 |doc NDS_CAT_doc_id_1000240 NSD_CAT_dis_id_12873428 NSD_CAT_ad_id_466073 NSD_CAT_ad_doc_id_2288665 NSD_CAT_pub_id_0 NSD_CON_jac_score:0.2 NSD_CAT_campaign_id_31899 NSD_CAT_advertiser_id_1108 NSD_LIST_topics_138:0.0894683491081469 NSD_LIST_topics_143:0.0881824742656303 NSD_LIST_topics_89:0.0675975072009047 NSD_LIST_topics_20:0.060568950330729 NSD_LIST_topics_194:0.045461627205345 NSD_LIST_topics_285:0.0356309213536497 NSD_LIST_topics_238:0.024729739952217 NSD_LIST_categories_1505:0.92 NSD_LIST_categories_1503:0.07\r\n",
      "1 12873428_134263|user NSUU_CAT_uuid_53b567c20a8eb2 NSUU_CAT_flag_ad_clicked_1 NSUU_CAT_flag_ad_seen_1 NSUU_CON_freq:0 NSUU_CAT_geo_GB NSUU_CAT_platform_3 |doc NDS_CAT_doc_id_1000240 NSD_CAT_dis_id_12873428 NSD_CAT_ad_id_134263 NSD_CAT_ad_doc_id_1300757 NSD_CAT_pub_id_145 NSD_CON_jac_score:0.0 NSD_CAT_campaign_id_16162 NSD_CAT_advertiser_id_185 NSD_LIST_topics_138:0.0894683491081469 NSD_LIST_topics_143:0.0881824742656303 NSD_LIST_topics_89:0.0675975072009047 NSD_LIST_topics_20:0.060568950330729 NSD_LIST_topics_194:0.045461627205345 NSD_LIST_topics_285:0.0356309213536497 NSD_LIST_topics_238:0.024729739952217 NSD_LIST_categories_1505:0.92 NSD_LIST_categories_1503:0.07\r\n",
      "-1 12873428_489368|user NSUU_CAT_uuid_53b567c20a8eb2 NSUU_CAT_flag_ad_clicked_1 NSUU_CAT_flag_ad_seen_1 NSUU_CON_freq:0 NSUU_CAT_geo_GB NSUU_CAT_platform_3 |doc NDS_CAT_doc_id_1000240 NSD_CAT_dis_id_12873428 NSD_CAT_ad_id_489368 NSD_CAT_ad_doc_id_2309382 NSD_CAT_pub_id_0 NSD_CON_jac_score:0.2 NSD_CAT_campaign_id_16261 NSD_CAT_advertiser_id_2594 NSD_LIST_topics_138:0.0894683491081469 NSD_LIST_topics_143:0.0881824742656303 NSD_LIST_topics_89:0.0675975072009047 NSD_LIST_topics_20:0.060568950330729 NSD_LIST_topics_194:0.045461627205345 NSD_LIST_topics_285:0.0356309213536497 NSD_LIST_topics_238:0.024729739952217 NSD_LIST_categories_1505:0.92 NSD_LIST_categories_1503:0.07\r\n",
      "-1 12873428_406558|user NSUU_CAT_uuid_53b567c20a8eb2 NSUU_CAT_flag_ad_clicked_1 NSUU_CAT_flag_ad_seen_1 NSUU_CON_freq:0 NSUU_CAT_geo_GB NSUU_CAT_platform_3 |doc NDS_CAT_doc_id_1000240 NSD_CAT_dis_id_12873428 NSD_CAT_ad_id_406558 NSD_CAT_ad_doc_id_777739 NSD_CAT_pub_id_0 NSD_CON_jac_score:0.0 NSD_CAT_campaign_id_30823 NSD_CAT_advertiser_id_3728 NSD_LIST_topics_138:0.0894683491081469 NSD_LIST_topics_143:0.0881824742656303 NSD_LIST_topics_89:0.0675975072009047 NSD_LIST_topics_20:0.060568950330729 NSD_LIST_topics_194:0.045461627205345 NSD_LIST_topics_285:0.0356309213536497 NSD_LIST_topics_238:0.024729739952217 NSD_LIST_categories_1505:0.92 NSD_LIST_categories_1503:0.07\r\n",
      "-1 12873428_160698|user NSUU_CAT_uuid_53b567c20a8eb2 NSUU_CAT_flag_ad_clicked_1 NSUU_CAT_flag_ad_seen_1 NSUU_CON_freq:0 NSUU_CAT_geo_GB NSUU_CAT_platform_3 |doc NDS_CAT_doc_id_1000240 NSD_CAT_dis_id_12873428 NSD_CAT_ad_id_160698 NSD_CAT_ad_doc_id_1400277 NSD_CAT_pub_id_145 NSD_CON_jac_score:0.0 NSD_CAT_campaign_id_16162 NSD_CAT_advertiser_id_185 NSD_LIST_topics_138:0.0894683491081469 NSD_LIST_topics_143:0.0881824742656303 NSD_LIST_topics_89:0.0675975072009047 NSD_LIST_topics_20:0.060568950330729 NSD_LIST_topics_194:0.045461627205345 NSD_LIST_topics_285:0.0356309213536497 NSD_LIST_topics_238:0.024729739952217 NSD_LIST_categories_1505:0.92 NSD_LIST_categories_1503:0.07\r\n"
     ]
    }
   ],
   "source": [
    "# copy file to local master node\n",
    "! rm /mnt/train.txt\n",
    "! hdfs dfs -getmerge /vw_feat_train.txt /mnt/train.txt\n",
    "# preview local file\n",
    "! head -n 5 /mnt/train.txt"
   ]
  },
  {
   "cell_type": "code",
   "execution_count": 173,
   "metadata": {},
   "outputs": [
    {
     "name": "stdout",
     "output_type": "stream",
     "text": [
      "final_regressor = model\n",
      "Enabling FTRL based optimization\n",
      "Algorithm used: Proximal-FTRL\n",
      "ftrl_alpha = 0.005\n",
      "ftrl_beta = 0.1\n",
      "Num weight bits = 24\n",
      "learning rate = 0.5\n",
      "initial_t = 0\n",
      "power_t = 0.5\n",
      "creating cache_file = /mnt/train.txt.cache\n",
      "Reading datafile = /mnt/train.txt\n",
      "num sources = 1\n",
      "average  since         example        example  current  current  current\n",
      "loss     last          counter         weight    label  predict features\n",
      "0.454929 0.454929      8000000      8000000.0  -1.0000  -1.8055       18\n",
      "0.449997 0.445065     16000000     16000000.0  -1.0000  -1.1351       19\n",
      "0.449668 0.449010     24000000     24000000.0  -1.0000  -2.6820       19\n",
      "0.446191 0.435759     32000000     32000000.0  -1.0000  -0.9945       20\n",
      "0.446549 0.447979     40000000     40000000.0  -1.0000  -2.8013       21\n",
      "0.446154 0.444183     48000000     48000000.0  -1.0000  -2.6226       23\n",
      "0.445516 0.441687     56000000     56000000.0   1.0000  -0.5397       29\n",
      "0.444271 0.435552     64000000     64000000.0  -1.0000  -1.9225       34\n",
      "0.441799 0.422030     72000000     72000000.0  -1.0000  -2.2347       29\n",
      "0.440986 0.433666     80000000     80000000.0  -1.0000  -1.4757       18\n",
      "0.440351 0.433999     88000000     88000000.0  -1.0000  -1.0130       20\n",
      "\n",
      "finished run\n",
      "number of examples = 92274377\n",
      "weighted example sum = 92274377.000000\n",
      "weighted label sum = -56543009.000000\n",
      "average loss = 0.440937\n",
      "best constant = -1.426691\n",
      "best constant's loss = 0.491422\n",
      "total feature number = 2032375596\n"
     ]
    }
   ],
   "source": [
    "! ./vw -d /mnt/train.txt -b 24 -c -k --ftrl --passes 1 -f model --holdout_off --loss_function logistic --random_seed 42 --progress 8000000"
   ]
  },
  {
   "cell_type": "code",
   "execution_count": 85,
   "metadata": {},
   "outputs": [
    {
     "name": "stdout",
     "output_type": "stream",
     "text": [
      "only testing\n",
      "predictions = /mnt/predictions.txt\n",
      "Enabling FTRL based optimization\n",
      "Algorithm used: Proximal-FTRL\n",
      "ftrl_alpha = 0.005\n",
      "ftrl_beta = 0.1\n",
      "Num weight bits = 24\n",
      "learning rate = 0.5\n",
      "initial_t = 0\n",
      "power_t = 0.5\n",
      "using no cache\n",
      "Reading datafile = /mnt/test.txt\n",
      "num sources = 1\n",
      "average  since         example        example  current  current  current\n",
      "loss     last          counter         weight    label  predict features\n",
      "warning: ? is not a good float, replacing with 0\n",
      "warning: ? is not a good float, replacing with 0\n",
      "\n",
      "finished run\n",
      "number of examples = 2\n",
      "weighted example sum = 2.000000\n",
      "weighted label sum = 0.000000\n",
      "average loss = 0.007602\n",
      "total feature number = 10\n",
      "0.521783 tag1\n",
      "0.521783 tag2\n"
     ]
    }
   ],
   "source": [
    "# make prediction with VW\n",
    "! echo \"? tag1| ad_id_144739 document_id_1337362 campaign_id_18488 advertiser_id_2909\" > /mnt/test.txt\n",
    "! echo \"? tag2| ad_id_156824 document_id_992370 campaign_id_7283 advertiser_id_1919\" >> /mnt/test.txt\n",
    "! ./vw -d /mnt/test.txt -i model -t -k -p /mnt/predictions.txt --progress 1000000 --link=logistic\n",
    "# predicted probabilities of \"1\" class\n",
    "! cat /mnt/predictions.txt"
   ]
  },
  {
   "cell_type": "markdown",
   "metadata": {},
   "source": [
    "# Homework 2: Baseline VW model\n",
    "\n",
    "Train a baseline model using the following features:\n",
    "- **clicked**\n",
    "- geo_location features (country, state, dma)\n",
    "- day_of_week (from timestamp, use *date.isoweekday()*)\n",
    "- ad_id\n",
    "- campaign_id\n",
    "- advertiser_id\n",
    "- ad_document_id\n",
    "- display_document_id\n",
    "- platform\n",
    "\n",
    "Make submission to Kaggle to know your leaderboard score\n",
    "\n",
    "If you want to create a dev set, make a 90%/10% split of training data by display_id"
   ]
  },
  {
   "cell_type": "code",
   "execution_count": null,
   "metadata": {},
   "outputs": [],
   "source": [
    "# YOUR CODE HERE"
   ]
  },
  {
   "cell_type": "markdown",
   "metadata": {},
   "source": [
    "# Submitting to Kaggle\n",
    "\n",
    "Obtain Kaggle API token: https://github.com/Kaggle/kaggle-api#api-credentials\n",
    "\n",
    "Making a submission: https://github.com/Kaggle/kaggle-api#submit-to-a-competition"
   ]
  },
  {
   "cell_type": "code",
   "execution_count": 62,
   "metadata": {},
   "outputs": [
    {
     "name": "stdout",
     "output_type": "stream",
     "text": [
      "mkdir: cannot create directory '/home/hadoop/.kaggle': File exists\n",
      "{\"username\":\"shaulsolomon\",\"key\":\"4910adeb28b48a95f93dcfd9abd4a69f\"}\n"
     ]
    }
   ],
   "source": [
    "! mkdir ~/.kaggle\n",
    "! touch ~/.kaggle/kaggle.json\n",
    "! echo '{\"username\":\"shaulsolomon\",\"key\":\"4910adeb28b48a95f93dcfd9abd4a69f\"}' > ~/.kaggle/kaggle.json\n",
    "! cat ~/.kaggle/kaggle.json\n",
    "! chmod 600 /home/hadoop/.kaggle/kaggle.json"
   ]
  },
  {
   "cell_type": "code",
   "execution_count": 174,
   "metadata": {},
   "outputs": [
    {
     "name": "stdout",
     "output_type": "stream",
     "text": [
      "download: s3://ydatazian/sample_submission.csv to ./sample_submission.csv\n"
     ]
    }
   ],
   "source": [
    "! aws s3 cp s3://ydatazian/sample_submission.csv ."
   ]
  },
  {
   "cell_type": "code",
   "execution_count": 175,
   "metadata": {},
   "outputs": [
    {
     "name": "stdout",
     "output_type": "stream",
     "text": [
      "display_id,ad_id\r\n",
      "16874594,66758 150083 162754 170392 172888 180797\r\n",
      "16874595,8846 30609 143982\r\n",
      "16874596,11430 57197 132820 153260 173005 288385 289122 289915\r\n",
      "16874597,137858 143981 155945 180965 182039 285834 305790 308836\r\n"
     ]
    }
   ],
   "source": [
    "# https://www.kaggle.com/c/outbrain-click-prediction/overview/evaluation\n",
    "# For each display_id in the test set, you must predict a space-delimited list of ad_ids, \n",
    "# ordered by decreasing likelihood of being clicked.\n",
    "! head -n 5 ./sample_submission.csv"
   ]
  },
  {
   "cell_type": "code",
   "execution_count": 176,
   "metadata": {},
   "outputs": [
    {
     "name": "stdout",
     "output_type": "stream",
     "text": [
      "Deleted /test_features.txt\n",
      "CPU times: user 34.5 ms, sys: 21 ms, total: 55.5 ms\n",
      "Wall time: 1min 34s\n"
     ]
    }
   ],
   "source": [
    "%%time\n",
    "! hdfs dfs -rm -r /test_features.txt\n",
    "(\n",
    "    se.read.parquet(\"/vw_feat_test.parquet\")\n",
    "    .rdd\n",
    "    .map(vw_row_mapper)\n",
    "    .saveAsTextFile(\"/test_features.txt\")\n",
    ")"
   ]
  },
  {
   "cell_type": "code",
   "execution_count": 177,
   "metadata": {},
   "outputs": [
    {
     "name": "stdout",
     "output_type": "stream",
     "text": [
      "0 20285030_68743|user NSUU_CAT_uuid_f3e881f6f85843 NSUU_CAT_flag_ad_clicked_0 NSUU_CAT_flag_ad_seen_0 NSUU_CON_freq:0 NSUU_CAT_geo_NL NSUU_CAT_geo_11 NSUU_CAT_platform_1 |doc NDS_CAT_doc_id_1000495 NSD_CAT_dis_id_20285030 NSD_CAT_ad_id_68743 NSD_CAT_ad_doc_id_874654 NSD_CAT_pub_id_0 NSD_CON_jac_score:0 NSD_CAT_campaign_id_5043 NSD_CAT_advertiser_id_1726 NSD_LIST_entities_cf466fba71c45fffb360f9654866b8e2:0.389884279844755 NSD_LIST_entities_69a142b83f000df5a6521c509ebef37a:0.305385452499218 NSD_LIST_entities_d802e8cbdc8c491484f544a72250ddcc:0.257393343586711 NSD_LIST_entities_cd128dbe890472bf279f077bae47fe25:0.249998898433788 NSD_LIST_entities_265a8f9448cde40296e5612761423a5e:0.247187787620092 NSD_LIST_entities_d68bd9ef6753326a2a4dfbe54cca7693:0.246142299113605 NSD_LIST_topics_174:0.068081067406863 NSD_LIST_topics_26:0.0661115173841483 NSD_LIST_topics_250:0.0573127014565049 NSD_LIST_topics_196:0.0504604325430469 NSD_LIST_topics_129:0.0422208359689696 NSD_LIST_topics_168:0.0407479227022037 NSD_LIST_topics_176:0.0299453375244054 NSD_LIST_topics_258:0.0282125293003073 NSD_LIST_topics_84:0.0243558016470394 NSD_LIST_topics_290:0.0220298401272889 NSD_LIST_topics_13:0.0212496297296408 NSD_LIST_topics_92:0.0163897787122592 NSD_LIST_topics_287:0.0146901686943348 NSD_LIST_topics_131:0.0130443725031526 NSD_LIST_topics_74:0.00844256959581252 NSD_LIST_topics_268:0.00808737431528512 NSD_LIST_categories_1607:0.92 NSD_LIST_categories_1100:0.07\r\n",
      "0 20285030_243487|user NSUU_CAT_uuid_f3e881f6f85843 NSUU_CAT_flag_ad_clicked_0 NSUU_CAT_flag_ad_seen_0 NSUU_CON_freq:0 NSUU_CAT_geo_NL NSUU_CAT_geo_11 NSUU_CAT_platform_1 |doc NDS_CAT_doc_id_1000495 NSD_CAT_dis_id_20285030 NSD_CAT_ad_id_243487 NSD_CAT_ad_doc_id_1603509 NSD_CAT_pub_id_0 NSD_CON_jac_score:0 NSD_CAT_campaign_id_25946 NSD_CAT_advertiser_id_1746 NSD_LIST_entities_cf466fba71c45fffb360f9654866b8e2:0.389884279844755 NSD_LIST_entities_69a142b83f000df5a6521c509ebef37a:0.305385452499218 NSD_LIST_entities_d802e8cbdc8c491484f544a72250ddcc:0.257393343586711 NSD_LIST_entities_cd128dbe890472bf279f077bae47fe25:0.249998898433788 NSD_LIST_entities_265a8f9448cde40296e5612761423a5e:0.247187787620092 NSD_LIST_entities_d68bd9ef6753326a2a4dfbe54cca7693:0.246142299113605 NSD_LIST_topics_174:0.068081067406863 NSD_LIST_topics_26:0.0661115173841483 NSD_LIST_topics_250:0.0573127014565049 NSD_LIST_topics_196:0.0504604325430469 NSD_LIST_topics_129:0.0422208359689696 NSD_LIST_topics_168:0.0407479227022037 NSD_LIST_topics_176:0.0299453375244054 NSD_LIST_topics_258:0.0282125293003073 NSD_LIST_topics_84:0.0243558016470394 NSD_LIST_topics_290:0.0220298401272889 NSD_LIST_topics_13:0.0212496297296408 NSD_LIST_topics_92:0.0163897787122592 NSD_LIST_topics_287:0.0146901686943348 NSD_LIST_topics_131:0.0130443725031526 NSD_LIST_topics_74:0.00844256959581252 NSD_LIST_topics_268:0.00808737431528512 NSD_LIST_categories_1607:0.92 NSD_LIST_categories_1100:0.07\r\n",
      "0 20285030_204432|user NSUU_CAT_uuid_f3e881f6f85843 NSUU_CAT_flag_ad_clicked_0 NSUU_CAT_flag_ad_seen_0 NSUU_CON_freq:0 NSUU_CAT_geo_NL NSUU_CAT_geo_11 NSUU_CAT_platform_1 |doc NDS_CAT_doc_id_1000495 NSD_CAT_dis_id_20285030 NSD_CAT_ad_id_204432 NSD_CAT_ad_doc_id_1518899 NSD_CAT_pub_id_0 NSD_CON_jac_score:0 NSD_CAT_campaign_id_6825 NSD_CAT_advertiser_id_1726 NSD_LIST_entities_cf466fba71c45fffb360f9654866b8e2:0.389884279844755 NSD_LIST_entities_69a142b83f000df5a6521c509ebef37a:0.305385452499218 NSD_LIST_entities_d802e8cbdc8c491484f544a72250ddcc:0.257393343586711 NSD_LIST_entities_cd128dbe890472bf279f077bae47fe25:0.249998898433788 NSD_LIST_entities_265a8f9448cde40296e5612761423a5e:0.247187787620092 NSD_LIST_entities_d68bd9ef6753326a2a4dfbe54cca7693:0.246142299113605 NSD_LIST_topics_174:0.068081067406863 NSD_LIST_topics_26:0.0661115173841483 NSD_LIST_topics_250:0.0573127014565049 NSD_LIST_topics_196:0.0504604325430469 NSD_LIST_topics_129:0.0422208359689696 NSD_LIST_topics_168:0.0407479227022037 NSD_LIST_topics_176:0.0299453375244054 NSD_LIST_topics_258:0.0282125293003073 NSD_LIST_topics_84:0.0243558016470394 NSD_LIST_topics_290:0.0220298401272889 NSD_LIST_topics_13:0.0212496297296408 NSD_LIST_topics_92:0.0163897787122592 NSD_LIST_topics_287:0.0146901686943348 NSD_LIST_topics_131:0.0130443725031526 NSD_LIST_topics_74:0.00844256959581252 NSD_LIST_topics_268:0.00808737431528512 NSD_LIST_categories_1607:0.92 NSD_LIST_categories_1100:0.07\r\n",
      "0 20285030_326357|user NSUU_CAT_uuid_f3e881f6f85843 NSUU_CAT_flag_ad_clicked_0 NSUU_CAT_flag_ad_seen_0 NSUU_CON_freq:0 NSUU_CAT_geo_NL NSUU_CAT_geo_11 NSUU_CAT_platform_1 |doc NDS_CAT_doc_id_1000495 NSD_CAT_dis_id_20285030 NSD_CAT_ad_id_326357 NSD_CAT_ad_doc_id_1344998 NSD_CAT_pub_id_0 NSD_CON_jac_score:0 NSD_CAT_campaign_id_29137 NSD_CAT_advertiser_id_2415 NSD_LIST_entities_cf466fba71c45fffb360f9654866b8e2:0.389884279844755 NSD_LIST_entities_69a142b83f000df5a6521c509ebef37a:0.305385452499218 NSD_LIST_entities_d802e8cbdc8c491484f544a72250ddcc:0.257393343586711 NSD_LIST_entities_cd128dbe890472bf279f077bae47fe25:0.249998898433788 NSD_LIST_entities_265a8f9448cde40296e5612761423a5e:0.247187787620092 NSD_LIST_entities_d68bd9ef6753326a2a4dfbe54cca7693:0.246142299113605 NSD_LIST_topics_174:0.068081067406863 NSD_LIST_topics_26:0.0661115173841483 NSD_LIST_topics_250:0.0573127014565049 NSD_LIST_topics_196:0.0504604325430469 NSD_LIST_topics_129:0.0422208359689696 NSD_LIST_topics_168:0.0407479227022037 NSD_LIST_topics_176:0.0299453375244054 NSD_LIST_topics_258:0.0282125293003073 NSD_LIST_topics_84:0.0243558016470394 NSD_LIST_topics_290:0.0220298401272889 NSD_LIST_topics_13:0.0212496297296408 NSD_LIST_topics_92:0.0163897787122592 NSD_LIST_topics_287:0.0146901686943348 NSD_LIST_topics_131:0.0130443725031526 NSD_LIST_topics_74:0.00844256959581252 NSD_LIST_topics_268:0.00808737431528512 NSD_LIST_categories_1607:0.92 NSD_LIST_categories_1100:0.07\r\n",
      "0 20285030_141476|user NSUU_CAT_uuid_f3e881f6f85843 NSUU_CAT_flag_ad_clicked_0 NSUU_CAT_flag_ad_seen_0 NSUU_CON_freq:0 NSUU_CAT_geo_NL NSUU_CAT_geo_11 NSUU_CAT_platform_1 |doc NDS_CAT_doc_id_1000495 NSD_CAT_dis_id_20285030 NSD_CAT_ad_id_141476 NSD_CAT_ad_doc_id_1325589 NSD_CAT_pub_id_0 NSD_CON_jac_score:0 NSD_CAT_campaign_id_18112 NSD_CAT_advertiser_id_2198 NSD_LIST_entities_cf466fba71c45fffb360f9654866b8e2:0.389884279844755 NSD_LIST_entities_69a142b83f000df5a6521c509ebef37a:0.305385452499218 NSD_LIST_entities_d802e8cbdc8c491484f544a72250ddcc:0.257393343586711 NSD_LIST_entities_cd128dbe890472bf279f077bae47fe25:0.249998898433788 NSD_LIST_entities_265a8f9448cde40296e5612761423a5e:0.247187787620092 NSD_LIST_entities_d68bd9ef6753326a2a4dfbe54cca7693:0.246142299113605 NSD_LIST_topics_174:0.068081067406863 NSD_LIST_topics_26:0.0661115173841483 NSD_LIST_topics_250:0.0573127014565049 NSD_LIST_topics_196:0.0504604325430469 NSD_LIST_topics_129:0.0422208359689696 NSD_LIST_topics_168:0.0407479227022037 NSD_LIST_topics_176:0.0299453375244054 NSD_LIST_topics_258:0.0282125293003073 NSD_LIST_topics_84:0.0243558016470394 NSD_LIST_topics_290:0.0220298401272889 NSD_LIST_topics_13:0.0212496297296408 NSD_LIST_topics_92:0.0163897787122592 NSD_LIST_topics_287:0.0146901686943348 NSD_LIST_topics_131:0.0130443725031526 NSD_LIST_topics_74:0.00844256959581252 NSD_LIST_topics_268:0.00808737431528512 NSD_LIST_categories_1607:0.92 NSD_LIST_categories_1100:0.07\r\n"
     ]
    }
   ],
   "source": [
    "# copy file to local master node\n",
    "! rm /mnt/test.txt\n",
    "! hdfs dfs -getmerge /test_features.txt /mnt/test.txt\n",
    "# preview local file\n",
    "! head -n 5 /mnt/test.txt"
   ]
  },
  {
   "cell_type": "code",
   "execution_count": 178,
   "metadata": {
    "scrolled": true
   },
   "outputs": [
    {
     "name": "stdout",
     "output_type": "stream",
     "text": [
      "only testing\n",
      "predictions = /mnt/predictions.txt\n",
      "Enabling FTRL based optimization\n",
      "Algorithm used: Proximal-FTRL\n",
      "ftrl_alpha = 0.005\n",
      "ftrl_beta = 0.1\n",
      "Num weight bits = 24\n",
      "learning rate = 0.5\n",
      "initial_t = 0\n",
      "power_t = 0.5\n",
      "using no cache\n",
      "Reading datafile = /mnt/test.txt\n",
      "num sources = 1\n",
      "average  since         example        example  current  current  current\n",
      "loss     last          counter         weight    label  predict features\n",
      "1.435940 1.435940      1000000      1000000.0   0.0000   0.0712       15\n",
      "1.501673 1.567405      2000000      2000000.0   0.0000   0.2344       23\n",
      "1.551366 1.650753      3000000      3000000.0   0.0000   0.1570       25\n",
      "1.522551 1.436103      4000000      4000000.0   0.0000   0.6691       22\n",
      "1.545302 1.636306      5000000      5000000.0   0.0000   0.2747       20\n",
      "1.706138 2.510317      6000000      6000000.0   0.0000   0.1565       18\n",
      "1.714504 1.764702      7000000      7000000.0   0.0000   0.4935       25\n",
      "1.689249 1.512463      8000000      8000000.0   0.0000   0.4682       27\n",
      "1.687168 1.670526      9000000      9000000.0   0.0000   0.4162       25\n",
      "1.677499 1.590471     10000000     10000000.0   0.0000   0.4070       26\n",
      "1.674722 1.646953     11000000     11000000.0   0.0000   0.2857       15\n",
      "1.664254 1.549107     12000000     12000000.0   0.0000   0.3093       13\n",
      "1.653763 1.527873     13000000     13000000.0   0.0000   0.6111       25\n",
      "1.648652 1.582204     14000000     14000000.0   0.0000   0.4407       20\n",
      "1.641794 1.545784     15000000     15000000.0   0.0000   0.3084       26\n",
      "1.634707 1.528402     16000000     16000000.0   0.0000   0.2887       18\n",
      "1.633198 1.609064     17000000     17000000.0   0.0000   0.3974       18\n",
      "1.627850 1.536934     18000000     18000000.0   0.0000   0.4627       19\n",
      "1.623139 1.538341     19000000     19000000.0   0.0000   0.3865       19\n",
      "1.619649 1.553338     20000000     20000000.0   0.0000   0.2655       21\n",
      "1.613686 1.494428     21000000     21000000.0   0.0000   0.0672       25\n",
      "1.613183 1.602609     22000000     22000000.0   0.0000   0.4122       33\n",
      "1.610356 1.548171     23000000     23000000.0   0.0000   0.4838       18\n",
      "1.608396 1.563304     24000000     24000000.0   0.0000   0.2105       21\n",
      "1.607114 1.576352     25000000     25000000.0   0.0000   0.3181       19\n",
      "1.604758 1.545862     26000000     26000000.0   0.0000   0.4368       18\n",
      "1.601118 1.506468     27000000     27000000.0   0.0000   0.1085       25\n",
      "1.600982 1.597320     28000000     28000000.0   0.0000   0.2571       18\n",
      "1.600639 1.591042     29000000     29000000.0   0.0000   0.3962       24\n",
      "1.600726 1.603231     30000000     30000000.0   0.0000   0.5016       32\n",
      "1.599755 1.570630     31000000     31000000.0   0.0000   0.6908       20\n",
      "1.599756 1.599772     32000000     32000000.0   0.0000   0.2202       27\n",
      "1.597999 1.541782     33000000     33000000.0   0.0000   0.3046       19\n",
      "\n",
      "finished run\n",
      "number of examples = 33965229\n",
      "weighted example sum = 33965229.000000\n",
      "weighted label sum = 0.000000\n",
      "average loss = 1.597817\n",
      "total feature number = 743163317\n",
      "0.193151 20285030_68743\n",
      "0.224553 20285030_243487\n",
      "0.292442 20285030_204432\n",
      "0.352387 20285030_326357\n",
      "0.167036 20285030_141476\n"
     ]
    }
   ],
   "source": [
    "! ./vw -d /mnt/test.txt -i model -t -k -p /mnt/predictions.txt --progress 1000000 --link=logistic\n",
    "# predicted probabilities of \"1\" class\n",
    "! head -n 5 /mnt/predictions.txt"
   ]
  },
  {
   "cell_type": "code",
   "execution_count": 179,
   "metadata": {},
   "outputs": [
    {
     "name": "stdout",
     "output_type": "stream",
     "text": [
      "33965229 /mnt/predictions.txt\r\n"
     ]
    }
   ],
   "source": [
    "! wc -l /mnt/predictions.txt"
   ]
  },
  {
   "cell_type": "code",
   "execution_count": 180,
   "metadata": {},
   "outputs": [
    {
     "data": {
      "application/vnd.jupyter.widget-view+json": {
       "model_id": "cd63f8048c5d47608c8b87541024ee3b",
       "version_major": 2,
       "version_minor": 0
      },
      "text/plain": [
       "HBox(children=(FloatProgress(value=1.0, bar_style='info', max=1.0), HTML(value='')))"
      ]
     },
     "metadata": {},
     "output_type": "display_data"
    },
    {
     "name": "stdout",
     "output_type": "stream",
     "text": [
      "\n"
     ]
    }
   ],
   "source": [
    "from collections import defaultdict\n",
    "scores_by_display_id = defaultdict(dict)\n",
    "for line in tqdm.tqdm(open('/mnt/predictions.txt')):\n",
    "    score, tag = line.strip().split(\" \")\n",
    "    score = float(score)\n",
    "    display_id, ad_id = tag.split(\"_\")\n",
    "    scores_by_display_id[display_id][ad_id] = score"
   ]
  },
  {
   "cell_type": "code",
   "execution_count": 181,
   "metadata": {},
   "outputs": [
    {
     "data": {
      "application/vnd.jupyter.widget-view+json": {
       "model_id": "80aab10ce54d4588832beada36eeebbe",
       "version_major": 2,
       "version_minor": 0
      },
      "text/plain": [
       "HBox(children=(FloatProgress(value=0.0, max=6245533.0), HTML(value='')))"
      ]
     },
     "metadata": {},
     "output_type": "display_data"
    },
    {
     "name": "stdout",
     "output_type": "stream",
     "text": [
      "\n"
     ]
    }
   ],
   "source": [
    "with open(\"submission.txt\", \"w\") as f:\n",
    "    f.write(\"display_id,ad_id\\n\")\n",
    "    for k, vs in tqdm.tqdm_notebook(scores_by_display_id.items()):\n",
    "        f.write(\"{},{}\\n\".format(\n",
    "            k, \n",
    "            \" \".join([v[0] for v in sorted(vs.items(), key=lambda x: -x[1])])\n",
    "        ))"
   ]
  },
  {
   "cell_type": "code",
   "execution_count": 182,
   "metadata": {},
   "outputs": [
    {
     "name": "stdout",
     "output_type": "stream",
     "text": [
      "100%|########################################| 260M/260M [00:03<00:00, 80.9MB/s]\n",
      "Successfully submitted to Outbrain Click Prediction"
     ]
    }
   ],
   "source": [
    "! kaggle competitions submit -f submission.txt outbrain-click-prediction -m \"baseline\""
   ]
  },
  {
   "cell_type": "markdown",
   "metadata": {},
   "source": [
    "# Feature engeneering"
   ]
  },
  {
   "cell_type": "code",
   "execution_count": 133,
   "metadata": {},
   "outputs": [],
   "source": [
    "from pyspark.sql import functions as f\n",
    "from pyspark.sql import types as t"
   ]
  },
  {
   "cell_type": "code",
   "execution_count": 4,
   "metadata": {
    "scrolled": true
   },
   "outputs": [
    {
     "data": {
      "application/vnd.jupyter.widget-view+json": {
       "model_id": "f63a3235a5394012b2ca9a3043545024",
       "version_major": 2,
       "version_minor": 0
      },
      "text/plain": [
       "HBox(children=(FloatProgress(value=0.0, max=10.0), HTML(value='')))"
      ]
     },
     "metadata": {},
     "output_type": "display_data"
    },
    {
     "name": "stdout",
     "output_type": "stream",
     "text": [
      "clicks_test\n"
     ]
    },
    {
     "data": {
      "text/html": [
       "<div>\n",
       "<style scoped>\n",
       "    .dataframe tbody tr th:only-of-type {\n",
       "        vertical-align: middle;\n",
       "    }\n",
       "\n",
       "    .dataframe tbody tr th {\n",
       "        vertical-align: top;\n",
       "    }\n",
       "\n",
       "    .dataframe thead th {\n",
       "        text-align: right;\n",
       "    }\n",
       "</style>\n",
       "<table border=\"1\" class=\"dataframe\">\n",
       "  <thead>\n",
       "    <tr style=\"text-align: right;\">\n",
       "      <th></th>\n",
       "      <th>display_id</th>\n",
       "      <th>ad_id</th>\n",
       "    </tr>\n",
       "  </thead>\n",
       "  <tbody>\n",
       "    <tr>\n",
       "      <th>0</th>\n",
       "      <td>16874594</td>\n",
       "      <td>66758</td>\n",
       "    </tr>\n",
       "    <tr>\n",
       "      <th>1</th>\n",
       "      <td>16874594</td>\n",
       "      <td>150083</td>\n",
       "    </tr>\n",
       "    <tr>\n",
       "      <th>2</th>\n",
       "      <td>16874594</td>\n",
       "      <td>162754</td>\n",
       "    </tr>\n",
       "  </tbody>\n",
       "</table>\n",
       "</div>"
      ],
      "text/plain": [
       "  display_id   ad_id\n",
       "0   16874594   66758\n",
       "1   16874594  150083\n",
       "2   16874594  162754"
      ]
     },
     "metadata": {},
     "output_type": "display_data"
    },
    {
     "name": "stdout",
     "output_type": "stream",
     "text": [
      "clicks_train\n"
     ]
    },
    {
     "data": {
      "text/html": [
       "<div>\n",
       "<style scoped>\n",
       "    .dataframe tbody tr th:only-of-type {\n",
       "        vertical-align: middle;\n",
       "    }\n",
       "\n",
       "    .dataframe tbody tr th {\n",
       "        vertical-align: top;\n",
       "    }\n",
       "\n",
       "    .dataframe thead th {\n",
       "        text-align: right;\n",
       "    }\n",
       "</style>\n",
       "<table border=\"1\" class=\"dataframe\">\n",
       "  <thead>\n",
       "    <tr style=\"text-align: right;\">\n",
       "      <th></th>\n",
       "      <th>display_id</th>\n",
       "      <th>ad_id</th>\n",
       "      <th>clicked</th>\n",
       "    </tr>\n",
       "  </thead>\n",
       "  <tbody>\n",
       "    <tr>\n",
       "      <th>0</th>\n",
       "      <td>1</td>\n",
       "      <td>42337</td>\n",
       "      <td>0</td>\n",
       "    </tr>\n",
       "    <tr>\n",
       "      <th>1</th>\n",
       "      <td>1</td>\n",
       "      <td>139684</td>\n",
       "      <td>0</td>\n",
       "    </tr>\n",
       "    <tr>\n",
       "      <th>2</th>\n",
       "      <td>1</td>\n",
       "      <td>144739</td>\n",
       "      <td>1</td>\n",
       "    </tr>\n",
       "  </tbody>\n",
       "</table>\n",
       "</div>"
      ],
      "text/plain": [
       "  display_id   ad_id clicked\n",
       "0          1   42337       0\n",
       "1          1  139684       0\n",
       "2          1  144739       1"
      ]
     },
     "metadata": {},
     "output_type": "display_data"
    },
    {
     "name": "stdout",
     "output_type": "stream",
     "text": [
      "documents_categories\n"
     ]
    },
    {
     "data": {
      "text/html": [
       "<div>\n",
       "<style scoped>\n",
       "    .dataframe tbody tr th:only-of-type {\n",
       "        vertical-align: middle;\n",
       "    }\n",
       "\n",
       "    .dataframe tbody tr th {\n",
       "        vertical-align: top;\n",
       "    }\n",
       "\n",
       "    .dataframe thead th {\n",
       "        text-align: right;\n",
       "    }\n",
       "</style>\n",
       "<table border=\"1\" class=\"dataframe\">\n",
       "  <thead>\n",
       "    <tr style=\"text-align: right;\">\n",
       "      <th></th>\n",
       "      <th>document_id</th>\n",
       "      <th>category_id</th>\n",
       "      <th>confidence_level</th>\n",
       "    </tr>\n",
       "  </thead>\n",
       "  <tbody>\n",
       "    <tr>\n",
       "      <th>0</th>\n",
       "      <td>1595802</td>\n",
       "      <td>1611</td>\n",
       "      <td>0.92</td>\n",
       "    </tr>\n",
       "    <tr>\n",
       "      <th>1</th>\n",
       "      <td>1595802</td>\n",
       "      <td>1610</td>\n",
       "      <td>0.07</td>\n",
       "    </tr>\n",
       "    <tr>\n",
       "      <th>2</th>\n",
       "      <td>1524246</td>\n",
       "      <td>1807</td>\n",
       "      <td>0.92</td>\n",
       "    </tr>\n",
       "  </tbody>\n",
       "</table>\n",
       "</div>"
      ],
      "text/plain": [
       "  document_id category_id confidence_level\n",
       "0     1595802        1611             0.92\n",
       "1     1595802        1610             0.07\n",
       "2     1524246        1807             0.92"
      ]
     },
     "metadata": {},
     "output_type": "display_data"
    },
    {
     "name": "stdout",
     "output_type": "stream",
     "text": [
      "documents_entities\n"
     ]
    },
    {
     "data": {
      "text/html": [
       "<div>\n",
       "<style scoped>\n",
       "    .dataframe tbody tr th:only-of-type {\n",
       "        vertical-align: middle;\n",
       "    }\n",
       "\n",
       "    .dataframe tbody tr th {\n",
       "        vertical-align: top;\n",
       "    }\n",
       "\n",
       "    .dataframe thead th {\n",
       "        text-align: right;\n",
       "    }\n",
       "</style>\n",
       "<table border=\"1\" class=\"dataframe\">\n",
       "  <thead>\n",
       "    <tr style=\"text-align: right;\">\n",
       "      <th></th>\n",
       "      <th>document_id</th>\n",
       "      <th>entity_id</th>\n",
       "      <th>confidence_level</th>\n",
       "    </tr>\n",
       "  </thead>\n",
       "  <tbody>\n",
       "    <tr>\n",
       "      <th>0</th>\n",
       "      <td>1524246</td>\n",
       "      <td>f9eec25663db4cd83183f5c805186f16</td>\n",
       "      <td>0.672865314504701</td>\n",
       "    </tr>\n",
       "    <tr>\n",
       "      <th>1</th>\n",
       "      <td>1524246</td>\n",
       "      <td>55ebcfbdaff1d6f60b3907151f38527a</td>\n",
       "      <td>0.399113728441297</td>\n",
       "    </tr>\n",
       "    <tr>\n",
       "      <th>2</th>\n",
       "      <td>1524246</td>\n",
       "      <td>839907a972930b17b125eb0247898412</td>\n",
       "      <td>0.392095749652966</td>\n",
       "    </tr>\n",
       "  </tbody>\n",
       "</table>\n",
       "</div>"
      ],
      "text/plain": [
       "  document_id                         entity_id   confidence_level\n",
       "0     1524246  f9eec25663db4cd83183f5c805186f16  0.672865314504701\n",
       "1     1524246  55ebcfbdaff1d6f60b3907151f38527a  0.399113728441297\n",
       "2     1524246  839907a972930b17b125eb0247898412  0.392095749652966"
      ]
     },
     "metadata": {},
     "output_type": "display_data"
    },
    {
     "name": "stdout",
     "output_type": "stream",
     "text": [
      "documents_meta\n"
     ]
    },
    {
     "data": {
      "text/html": [
       "<div>\n",
       "<style scoped>\n",
       "    .dataframe tbody tr th:only-of-type {\n",
       "        vertical-align: middle;\n",
       "    }\n",
       "\n",
       "    .dataframe tbody tr th {\n",
       "        vertical-align: top;\n",
       "    }\n",
       "\n",
       "    .dataframe thead th {\n",
       "        text-align: right;\n",
       "    }\n",
       "</style>\n",
       "<table border=\"1\" class=\"dataframe\">\n",
       "  <thead>\n",
       "    <tr style=\"text-align: right;\">\n",
       "      <th></th>\n",
       "      <th>document_id</th>\n",
       "      <th>source_id</th>\n",
       "      <th>publisher_id</th>\n",
       "      <th>publish_time</th>\n",
       "    </tr>\n",
       "  </thead>\n",
       "  <tbody>\n",
       "    <tr>\n",
       "      <th>0</th>\n",
       "      <td>1595802</td>\n",
       "      <td>1</td>\n",
       "      <td>603</td>\n",
       "      <td>2016-06-05 00:00:00</td>\n",
       "    </tr>\n",
       "    <tr>\n",
       "      <th>1</th>\n",
       "      <td>1524246</td>\n",
       "      <td>1</td>\n",
       "      <td>603</td>\n",
       "      <td>2016-05-26 11:00:00</td>\n",
       "    </tr>\n",
       "    <tr>\n",
       "      <th>2</th>\n",
       "      <td>1617787</td>\n",
       "      <td>1</td>\n",
       "      <td>603</td>\n",
       "      <td>2016-05-27 00:00:00</td>\n",
       "    </tr>\n",
       "  </tbody>\n",
       "</table>\n",
       "</div>"
      ],
      "text/plain": [
       "  document_id source_id publisher_id         publish_time\n",
       "0     1595802         1          603  2016-06-05 00:00:00\n",
       "1     1524246         1          603  2016-05-26 11:00:00\n",
       "2     1617787         1          603  2016-05-27 00:00:00"
      ]
     },
     "metadata": {},
     "output_type": "display_data"
    },
    {
     "name": "stdout",
     "output_type": "stream",
     "text": [
      "documents_topics\n"
     ]
    },
    {
     "data": {
      "text/html": [
       "<div>\n",
       "<style scoped>\n",
       "    .dataframe tbody tr th:only-of-type {\n",
       "        vertical-align: middle;\n",
       "    }\n",
       "\n",
       "    .dataframe tbody tr th {\n",
       "        vertical-align: top;\n",
       "    }\n",
       "\n",
       "    .dataframe thead th {\n",
       "        text-align: right;\n",
       "    }\n",
       "</style>\n",
       "<table border=\"1\" class=\"dataframe\">\n",
       "  <thead>\n",
       "    <tr style=\"text-align: right;\">\n",
       "      <th></th>\n",
       "      <th>document_id</th>\n",
       "      <th>topic_id</th>\n",
       "      <th>confidence_level</th>\n",
       "    </tr>\n",
       "  </thead>\n",
       "  <tbody>\n",
       "    <tr>\n",
       "      <th>0</th>\n",
       "      <td>1595802</td>\n",
       "      <td>140</td>\n",
       "      <td>0.0731131601068925</td>\n",
       "    </tr>\n",
       "    <tr>\n",
       "      <th>1</th>\n",
       "      <td>1595802</td>\n",
       "      <td>16</td>\n",
       "      <td>0.0594164867373976</td>\n",
       "    </tr>\n",
       "    <tr>\n",
       "      <th>2</th>\n",
       "      <td>1595802</td>\n",
       "      <td>143</td>\n",
       "      <td>0.0454207537554526</td>\n",
       "    </tr>\n",
       "  </tbody>\n",
       "</table>\n",
       "</div>"
      ],
      "text/plain": [
       "  document_id topic_id    confidence_level\n",
       "0     1595802      140  0.0731131601068925\n",
       "1     1595802       16  0.0594164867373976\n",
       "2     1595802      143  0.0454207537554526"
      ]
     },
     "metadata": {},
     "output_type": "display_data"
    },
    {
     "name": "stdout",
     "output_type": "stream",
     "text": [
      "events\n"
     ]
    },
    {
     "data": {
      "text/html": [
       "<div>\n",
       "<style scoped>\n",
       "    .dataframe tbody tr th:only-of-type {\n",
       "        vertical-align: middle;\n",
       "    }\n",
       "\n",
       "    .dataframe tbody tr th {\n",
       "        vertical-align: top;\n",
       "    }\n",
       "\n",
       "    .dataframe thead th {\n",
       "        text-align: right;\n",
       "    }\n",
       "</style>\n",
       "<table border=\"1\" class=\"dataframe\">\n",
       "  <thead>\n",
       "    <tr style=\"text-align: right;\">\n",
       "      <th></th>\n",
       "      <th>display_id</th>\n",
       "      <th>uuid</th>\n",
       "      <th>document_id</th>\n",
       "      <th>timestamp</th>\n",
       "      <th>platform</th>\n",
       "      <th>geo_location</th>\n",
       "    </tr>\n",
       "  </thead>\n",
       "  <tbody>\n",
       "    <tr>\n",
       "      <th>0</th>\n",
       "      <td>1</td>\n",
       "      <td>cb8c55702adb93</td>\n",
       "      <td>379743</td>\n",
       "      <td>61</td>\n",
       "      <td>3</td>\n",
       "      <td>US&gt;SC&gt;519</td>\n",
       "    </tr>\n",
       "    <tr>\n",
       "      <th>1</th>\n",
       "      <td>2</td>\n",
       "      <td>79a85fa78311b9</td>\n",
       "      <td>1794259</td>\n",
       "      <td>81</td>\n",
       "      <td>2</td>\n",
       "      <td>US&gt;CA&gt;807</td>\n",
       "    </tr>\n",
       "    <tr>\n",
       "      <th>2</th>\n",
       "      <td>3</td>\n",
       "      <td>822932ce3d8757</td>\n",
       "      <td>1179111</td>\n",
       "      <td>182</td>\n",
       "      <td>2</td>\n",
       "      <td>US&gt;MI&gt;505</td>\n",
       "    </tr>\n",
       "  </tbody>\n",
       "</table>\n",
       "</div>"
      ],
      "text/plain": [
       "  display_id            uuid document_id timestamp platform geo_location\n",
       "0          1  cb8c55702adb93      379743        61        3    US>SC>519\n",
       "1          2  79a85fa78311b9     1794259        81        2    US>CA>807\n",
       "2          3  822932ce3d8757     1179111       182        2    US>MI>505"
      ]
     },
     "metadata": {},
     "output_type": "display_data"
    },
    {
     "name": "stdout",
     "output_type": "stream",
     "text": [
      "page_views\n"
     ]
    },
    {
     "data": {
      "text/html": [
       "<div>\n",
       "<style scoped>\n",
       "    .dataframe tbody tr th:only-of-type {\n",
       "        vertical-align: middle;\n",
       "    }\n",
       "\n",
       "    .dataframe tbody tr th {\n",
       "        vertical-align: top;\n",
       "    }\n",
       "\n",
       "    .dataframe thead th {\n",
       "        text-align: right;\n",
       "    }\n",
       "</style>\n",
       "<table border=\"1\" class=\"dataframe\">\n",
       "  <thead>\n",
       "    <tr style=\"text-align: right;\">\n",
       "      <th></th>\n",
       "      <th>uuid</th>\n",
       "      <th>document_id</th>\n",
       "      <th>timestamp</th>\n",
       "      <th>platform</th>\n",
       "      <th>geo_location</th>\n",
       "      <th>traffic_source</th>\n",
       "    </tr>\n",
       "  </thead>\n",
       "  <tbody>\n",
       "    <tr>\n",
       "      <th>0</th>\n",
       "      <td>1fd5f051fba643</td>\n",
       "      <td>120</td>\n",
       "      <td>31905835</td>\n",
       "      <td>1</td>\n",
       "      <td>RS</td>\n",
       "      <td>2</td>\n",
       "    </tr>\n",
       "    <tr>\n",
       "      <th>1</th>\n",
       "      <td>8557aa9004be3b</td>\n",
       "      <td>120</td>\n",
       "      <td>32053104</td>\n",
       "      <td>1</td>\n",
       "      <td>VN&gt;44</td>\n",
       "      <td>2</td>\n",
       "    </tr>\n",
       "    <tr>\n",
       "      <th>2</th>\n",
       "      <td>c351b277a358f0</td>\n",
       "      <td>120</td>\n",
       "      <td>54013023</td>\n",
       "      <td>1</td>\n",
       "      <td>KR&gt;12</td>\n",
       "      <td>1</td>\n",
       "    </tr>\n",
       "  </tbody>\n",
       "</table>\n",
       "</div>"
      ],
      "text/plain": [
       "             uuid document_id timestamp platform geo_location traffic_source\n",
       "0  1fd5f051fba643         120  31905835        1           RS              2\n",
       "1  8557aa9004be3b         120  32053104        1        VN>44              2\n",
       "2  c351b277a358f0         120  54013023        1        KR>12              1"
      ]
     },
     "metadata": {},
     "output_type": "display_data"
    },
    {
     "name": "stdout",
     "output_type": "stream",
     "text": [
      "page_views_sample\n"
     ]
    },
    {
     "data": {
      "text/html": [
       "<div>\n",
       "<style scoped>\n",
       "    .dataframe tbody tr th:only-of-type {\n",
       "        vertical-align: middle;\n",
       "    }\n",
       "\n",
       "    .dataframe tbody tr th {\n",
       "        vertical-align: top;\n",
       "    }\n",
       "\n",
       "    .dataframe thead th {\n",
       "        text-align: right;\n",
       "    }\n",
       "</style>\n",
       "<table border=\"1\" class=\"dataframe\">\n",
       "  <thead>\n",
       "    <tr style=\"text-align: right;\">\n",
       "      <th></th>\n",
       "      <th>uuid</th>\n",
       "      <th>document_id</th>\n",
       "      <th>timestamp</th>\n",
       "      <th>platform</th>\n",
       "      <th>geo_location</th>\n",
       "      <th>traffic_source</th>\n",
       "    </tr>\n",
       "  </thead>\n",
       "  <tbody>\n",
       "    <tr>\n",
       "      <th>0</th>\n",
       "      <td>1fd5f051fba643</td>\n",
       "      <td>120</td>\n",
       "      <td>31905835</td>\n",
       "      <td>1</td>\n",
       "      <td>RS</td>\n",
       "      <td>2</td>\n",
       "    </tr>\n",
       "    <tr>\n",
       "      <th>1</th>\n",
       "      <td>8557aa9004be3b</td>\n",
       "      <td>120</td>\n",
       "      <td>32053104</td>\n",
       "      <td>1</td>\n",
       "      <td>VN&gt;44</td>\n",
       "      <td>2</td>\n",
       "    </tr>\n",
       "    <tr>\n",
       "      <th>2</th>\n",
       "      <td>c351b277a358f0</td>\n",
       "      <td>120</td>\n",
       "      <td>54013023</td>\n",
       "      <td>1</td>\n",
       "      <td>KR&gt;12</td>\n",
       "      <td>1</td>\n",
       "    </tr>\n",
       "  </tbody>\n",
       "</table>\n",
       "</div>"
      ],
      "text/plain": [
       "             uuid document_id timestamp platform geo_location traffic_source\n",
       "0  1fd5f051fba643         120  31905835        1           RS              2\n",
       "1  8557aa9004be3b         120  32053104        1        VN>44              2\n",
       "2  c351b277a358f0         120  54013023        1        KR>12              1"
      ]
     },
     "metadata": {},
     "output_type": "display_data"
    },
    {
     "name": "stdout",
     "output_type": "stream",
     "text": [
      "promoted_content\n"
     ]
    },
    {
     "data": {
      "text/html": [
       "<div>\n",
       "<style scoped>\n",
       "    .dataframe tbody tr th:only-of-type {\n",
       "        vertical-align: middle;\n",
       "    }\n",
       "\n",
       "    .dataframe tbody tr th {\n",
       "        vertical-align: top;\n",
       "    }\n",
       "\n",
       "    .dataframe thead th {\n",
       "        text-align: right;\n",
       "    }\n",
       "</style>\n",
       "<table border=\"1\" class=\"dataframe\">\n",
       "  <thead>\n",
       "    <tr style=\"text-align: right;\">\n",
       "      <th></th>\n",
       "      <th>ad_id</th>\n",
       "      <th>document_id</th>\n",
       "      <th>campaign_id</th>\n",
       "      <th>advertiser_id</th>\n",
       "    </tr>\n",
       "  </thead>\n",
       "  <tbody>\n",
       "    <tr>\n",
       "      <th>0</th>\n",
       "      <td>1</td>\n",
       "      <td>6614</td>\n",
       "      <td>1</td>\n",
       "      <td>7</td>\n",
       "    </tr>\n",
       "    <tr>\n",
       "      <th>1</th>\n",
       "      <td>2</td>\n",
       "      <td>471467</td>\n",
       "      <td>2</td>\n",
       "      <td>7</td>\n",
       "    </tr>\n",
       "    <tr>\n",
       "      <th>2</th>\n",
       "      <td>3</td>\n",
       "      <td>7692</td>\n",
       "      <td>3</td>\n",
       "      <td>7</td>\n",
       "    </tr>\n",
       "  </tbody>\n",
       "</table>\n",
       "</div>"
      ],
      "text/plain": [
       "  ad_id document_id campaign_id advertiser_id\n",
       "0     1        6614           1             7\n",
       "1     2      471467           2             7\n",
       "2     3        7692           3             7"
      ]
     },
     "metadata": {},
     "output_type": "display_data"
    },
    {
     "name": "stdout",
     "output_type": "stream",
     "text": [
      "\n"
     ]
    }
   ],
   "source": [
    "from IPython.display import display\n",
    "tables = [\"clicks_test\", \"clicks_train\", \n",
    "          \"documents_categories\", \"documents_entities\", \"documents_meta\", \"documents_topics\", \n",
    "          \"events\", \"page_views\", \"page_views_sample\", \"promoted_content\"]\n",
    "for name in tqdm.tqdm(tables):\n",
    "    df = se.read.parquet(\"s3://ydatazian/{}.parquet\".format(name))\n",
    "    df.registerTempTable(name)\n",
    "    print(name)\n",
    "    display(df.limit(3).toPandas())"
   ]
  },
  {
   "cell_type": "markdown",
   "metadata": {},
   "source": [
    "## ESTABLISH BASE TABLES"
   ]
  },
  {
   "cell_type": "code",
   "execution_count": 104,
   "metadata": {},
   "outputs": [],
   "source": [
    "# create a table with uuid, doc_id, display_id, ad_id (from EVENTS and CLICKS_TEST)\n",
    "\n",
    "se.sql(\n",
    "\"\"\"\n",
    "SELECT\n",
    "    BASE.uuid,\n",
    "    BASE.document_id,\n",
    "    BASE.display_id,\n",
    "    BASE.ad_id,\n",
    "    BASE.timestamp,\n",
    "    PC.document_id as ad_doc_id\n",
    "    \n",
    "    \n",
    "FROM\n",
    "(SELECT\n",
    "    events.uuid,\n",
    "    events.document_id,\n",
    "    events.display_id,\n",
    "    events.timestamp,\n",
    "    CT.ad_id\n",
    "\n",
    "FROM clicks_test CT\n",
    "        JOIN events\n",
    "        ON CT.display_id = events.display_id) BASE\n",
    "        JOIN promoted_content PC\n",
    "        ON BASE.ad_id = PC.ad_id\n",
    "\n",
    "\"\"\").write.parquet(\"/baseline_test.parquet\",mode=\"overwrite\")\n",
    "\n",
    "\n",
    "se.sql(\n",
    "\"\"\"\n",
    "SELECT\n",
    "    BASE.uuid,\n",
    "    BASE.document_id,\n",
    "    BASE.display_id,\n",
    "    BASE.ad_id,\n",
    "    BASE.timestamp,\n",
    "    PC.document_id as ad_doc_id,\n",
    "    BASE.clicked\n",
    "    \n",
    "    \n",
    "FROM\n",
    "(SELECT\n",
    "    events.uuid,\n",
    "    events.document_id,\n",
    "    events.display_id,\n",
    "    events.timestamp,\n",
    "    CT.ad_id,\n",
    "    CT.clicked\n",
    "\n",
    "FROM clicks_train CT\n",
    "        JOIN events\n",
    "        ON CT.display_id = events.display_id) BASE\n",
    "        JOIN promoted_content PC\n",
    "        ON BASE.ad_id = PC.ad_id\n",
    "        \n",
    "\"\"\").write.parquet(\"/baseline_train.parquet\",mode=\"overwrite\")"
   ]
  },
  {
   "cell_type": "code",
   "execution_count": 105,
   "metadata": {},
   "outputs": [
    {
     "name": "stdout",
     "output_type": "stream",
     "text": [
      "+--------------+-----------+----------+------+---------+---------+-------+\n",
      "|          uuid|document_id|display_id| ad_id|timestamp|ad_doc_id|clicked|\n",
      "+--------------+-----------+----------+------+---------+---------+-------+\n",
      "|66d17a9ccd0e15|    1126487|  10000108|132815|668707895|  1227645|      1|\n",
      "|66d17a9ccd0e15|    1126487|  10000108|133677|668707895|  1297868|      0|\n",
      "|66d17a9ccd0e15|    1126487|  10000108|406686|668707895|  1671134|      0|\n",
      "|66d17a9ccd0e15|    1126487|  10000108|406704|668707895|  1678714|      0|\n",
      "|66d17a9ccd0e15|    1126487|  10000108|449087|668707895|  2135836|      0|\n",
      "+--------------+-----------+----------+------+---------+---------+-------+\n",
      "only showing top 5 rows\n",
      "\n"
     ]
    }
   ],
   "source": [
    "se.read.parquet(\"/baseline_train.parquet\").show(5)"
   ]
  },
  {
   "cell_type": "code",
   "execution_count": 106,
   "metadata": {},
   "outputs": [],
   "source": [
    "df = se.read.parquet(\"/baseline_train.parquet\")\n",
    "df.registerTempTable(\"baseline_train\")\n",
    "df = se.read.parquet(\"/baseline_test.parquet\")\n",
    "df.registerTempTable(\"baseline_test\")"
   ]
  },
  {
   "cell_type": "code",
   "execution_count": 107,
   "metadata": {},
   "outputs": [
    {
     "data": {
      "text/plain": [
       "32225162"
      ]
     },
     "execution_count": 107,
     "metadata": {},
     "output_type": "execute_result"
    }
   ],
   "source": [
    "df = se.read.parquet(\"/baseline_test.parquet\")\n",
    "df.count()"
   ]
  },
  {
   "cell_type": "markdown",
   "metadata": {},
   "source": [
    "#### FEAT 1 - FLAG IF AD WAS CLICKED ON BEFORE BY USER"
   ]
  },
  {
   "cell_type": "code",
   "execution_count": 108,
   "metadata": {},
   "outputs": [],
   "source": [
    "# create a flag feature to determine if a user has seen this ad in the past\n",
    "\n",
    "se.sql(\n",
    "\"\"\"\n",
    "SELECT\n",
    "T.uuid,\n",
    "T.ad_id,\n",
    "IF (ad_clicked > 0, 1, 0) as flag_ad_clicked\n",
    "FROM  (SELECT\n",
    "        events.uuid,\n",
    "        CT.ad_id,\n",
    "        COUNT(CT.clicked) as ad_clicked\n",
    "    FROM clicks_train CT JOIN events\n",
    "        ON CT.display_id =  events.display_id\n",
    "    GROUP BY events.uuid, CT.ad_id) T\n",
    "\"\"\").write.parquet(\"/feat_ad_clicked.parquet\",mode=\"overwrite\")"
   ]
  },
  {
   "cell_type": "code",
   "execution_count": 109,
   "metadata": {},
   "outputs": [
    {
     "name": "stdout",
     "output_type": "stream",
     "text": [
      "+--------------+------+---------------+\n",
      "|          uuid| ad_id|flag_ad_clicked|\n",
      "+--------------+------+---------------+\n",
      "|95974bc792347d| 67281|              1|\n",
      "|18270f4a2b53ce|311759|              1|\n",
      "|2e29c469dba6ed| 26723|              1|\n",
      "|9f9405eaa19d5f|141268|              1|\n",
      "|20e401e14e9d92|365175|              1|\n",
      "+--------------+------+---------------+\n",
      "only showing top 5 rows\n",
      "\n"
     ]
    }
   ],
   "source": [
    "se.read.parquet(\"/feat_ad_clicked.parquet\").show(5)\n",
    "df = se.read.parquet(\"/feat_ad_clicked.parquet\")\n",
    "df.registerTempTable(\"feat_ad_clicked\")"
   ]
  },
  {
   "cell_type": "code",
   "execution_count": 110,
   "metadata": {},
   "outputs": [],
   "source": [
    "se.sql(\"\"\"\n",
    "SELECT\n",
    "    btr.uuid,\n",
    "    btr.document_id,\n",
    "    btr.display_id,\n",
    "    btr.ad_id,\n",
    "    btr.timestamp,\n",
    "    btr.ad_doc_id,\n",
    "    btr.clicked,\n",
    "    fac.flag_ad_clicked\n",
    "FROM baseline_train btr LEFT JOIN feat_ad_clicked fac\n",
    "ON (btr.uuid = fac.uuid) AND (btr.ad_id = fac.ad_id) \n",
    "\"\"\").write.parquet(\"/baseline_train_2.parquet\",mode=\"overwrite\");\n",
    "\n",
    "se.sql(\"\"\"\n",
    "SELECT\n",
    "    bte.uuid,\n",
    "    bte.document_id,\n",
    "    bte.display_id,\n",
    "    bte.ad_id,\n",
    "    bte.timestamp,\n",
    "    bte.ad_doc_id,\n",
    "    fac.flag_ad_clicked\n",
    "FROM baseline_test bte LEFT JOIN feat_ad_clicked fac\n",
    "ON (bte.uuid = fac.uuid) AND (bte.ad_id = fac.ad_id) \n",
    "\"\"\").write.parquet(\"/baseline_test_2.parquet\",mode=\"overwrite\")"
   ]
  },
  {
   "cell_type": "code",
   "execution_count": 111,
   "metadata": {},
   "outputs": [],
   "source": [
    "df = se.read.parquet(\"/baseline_train_2.parquet\")\n",
    "df.registerTempTable(\"baseline_train_2\")   \n",
    "df = se.read.parquet(\"/baseline_test_2.parquet\")\n",
    "df.registerTempTable(\"baseline_test_2\")    "
   ]
  },
  {
   "cell_type": "code",
   "execution_count": 112,
   "metadata": {},
   "outputs": [
    {
     "data": {
      "text/plain": [
       "32225162"
      ]
     },
     "execution_count": 112,
     "metadata": {},
     "output_type": "execute_result"
    }
   ],
   "source": [
    "#32225162\n",
    "df = se.read.parquet(\"/baseline_test.parquet\")\n",
    "df.count()"
   ]
  },
  {
   "cell_type": "markdown",
   "metadata": {},
   "source": [
    "#### FEAT 2 - FLAG IF AD WAS SEEN BEFORE BY USER"
   ]
  },
  {
   "cell_type": "code",
   "execution_count": 113,
   "metadata": {},
   "outputs": [],
   "source": [
    "se.sql(\n",
    "\"\"\"\n",
    "SELECT \n",
    "uuid, \n",
    "ad_id,\n",
    "1 as ad_seen\n",
    "FROM (SELECT\n",
    "    events.uuid,\n",
    "    events.display_id,\n",
    "    CT.ad_id\n",
    "    FROM clicks_train CT\n",
    "        JOIN events\n",
    "            ON CT.display_id =  events.display_id)\n",
    "GROUP BY uuid, ad_id\n",
    "\n",
    "\"\"\").write.parquet(\"/feat_flag_ad_seen.parquet\",mode=\"overwrite\")"
   ]
  },
  {
   "cell_type": "code",
   "execution_count": 114,
   "metadata": {},
   "outputs": [],
   "source": [
    "df = se.read.parquet(\"/feat_flag_ad_seen.parquet\")\n",
    "df.registerTempTable(\"feat_ad_seen\")"
   ]
  },
  {
   "cell_type": "code",
   "execution_count": 115,
   "metadata": {},
   "outputs": [],
   "source": [
    "se.sql(\"\"\"\n",
    "SELECT\n",
    "    btr.uuid,\n",
    "    btr.document_id,\n",
    "    btr.display_id,\n",
    "    btr.ad_id,\n",
    "    btr.timestamp,\n",
    "    btr.ad_doc_id,\n",
    "    btr.clicked,\n",
    "    btr.flag_ad_clicked,\n",
    "    fas.ad_seen as flag_ad_seen\n",
    "FROM baseline_train_2 btr LEFT JOIN  feat_ad_seen fas\n",
    "ON (btr.uuid = fas.uuid) AND (btr.ad_id = fas.ad_id) \n",
    "\"\"\").write.parquet(\"/baseline_train.parquet\",mode=\"overwrite\")\n",
    "\n",
    "se.sql(\"\"\"\n",
    "SELECT\n",
    "    bte.uuid,\n",
    "    bte.document_id,\n",
    "    bte.display_id,\n",
    "    bte.ad_id,\n",
    "    bte.timestamp,\n",
    "    bte.ad_doc_id,\n",
    "    bte.flag_ad_clicked,\n",
    "    fas.ad_seen as flag_ad_seen\n",
    "FROM baseline_test_2 bte LEFT JOIN feat_ad_seen fas\n",
    "ON (bte.uuid = fas.uuid) AND (bte.ad_id = fas.ad_id) \n",
    "\"\"\").write.parquet(\"/baseline_test.parquet\",mode=\"overwrite\")"
   ]
  },
  {
   "cell_type": "code",
   "execution_count": 116,
   "metadata": {},
   "outputs": [
    {
     "name": "stdout",
     "output_type": "stream",
     "text": [
      "+--------------+-----------+----------+------+----------+---------+---------------+------------+\n",
      "|          uuid|document_id|display_id| ad_id| timestamp|ad_doc_id|flag_ad_clicked|flag_ad_seen|\n",
      "+--------------+-----------+----------+------+----------+---------+---------------+------------+\n",
      "|100073c2e19605|    2880276|  21908895|468817|1239445590|  2310110|           null|        null|\n",
      "|10013d303c2ba1|    2321683|  18439464| 74845| 596040874|   331537|           null|        null|\n",
      "|10020e2d1802e9|    1788470|  16933750|180923|  30463831|  1151028|           null|        null|\n",
      "+--------------+-----------+----------+------+----------+---------+---------------+------------+\n",
      "only showing top 3 rows\n",
      "\n"
     ]
    }
   ],
   "source": [
    "se.read.parquet(\"/baseline_test.parquet\").show(3)"
   ]
  },
  {
   "cell_type": "code",
   "execution_count": 117,
   "metadata": {},
   "outputs": [],
   "source": [
    "df = se.read.parquet(\"/baseline_train.parquet\")\n",
    "df.registerTempTable(\"baseline_train\")\n",
    "df = se.read.parquet(\"/baseline_test.parquet\")\n",
    "df.registerTempTable(\"baseline_test\")"
   ]
  },
  {
   "cell_type": "code",
   "execution_count": 118,
   "metadata": {},
   "outputs": [
    {
     "data": {
      "text/plain": [
       "32225162"
      ]
     },
     "execution_count": 118,
     "metadata": {},
     "output_type": "execute_result"
    }
   ],
   "source": [
    "#32225162\n",
    "df = se.read.parquet(\"/baseline_test.parquet\")\n",
    "df.count()"
   ]
  },
  {
   "cell_type": "markdown",
   "metadata": {},
   "source": [
    "#### FEAT 3 - FREQ OF PAPERS USER READS FROM PUBLISHER"
   ]
  },
  {
   "cell_type": "code",
   "execution_count": 119,
   "metadata": {},
   "outputs": [],
   "source": [
    "se.sql(\n",
    "\"\"\"\n",
    "SELECT TC.uuid,\n",
    "        PC.publisher_id,\n",
    "        PC.pub_counts / TC.total_counts as freq\n",
    "       \n",
    "FROM\n",
    "(SELECT COUNT (*) as total_counts,\n",
    "        uuid\n",
    "FROM page_views\n",
    "GROUP BY uuid) TC\n",
    "\n",
    "JOIN  (SELECT   \n",
    "        PV.uuid,\n",
    "        DM.publisher_id,\n",
    "        COUNT (*) as pub_counts\n",
    "\n",
    "    FROM\n",
    "        page_views PV\n",
    "            JOIN documents_meta DM\n",
    "            ON PV.document_id = DM.document_id\n",
    "    GROUP BY PV.uuid, DM.publisher_id) PC\n",
    "ON TC.uuid = PC.uuid\n",
    "\n",
    "\"\"\").write.parquet(\"/feat_publisher_freq.parquet\",mode=\"overwrite\") "
   ]
  },
  {
   "cell_type": "code",
   "execution_count": 120,
   "metadata": {},
   "outputs": [],
   "source": [
    "df = se.read.parquet(\"/feat_publisher_freq.parquet\")\n",
    "df.registerTempTable(\"pub_freq\")"
   ]
  },
  {
   "cell_type": "code",
   "execution_count": 121,
   "metadata": {},
   "outputs": [
    {
     "name": "stdout",
     "output_type": "stream",
     "text": [
      "+--------------+------------+-------------------+\n",
      "|          uuid|publisher_id|               freq|\n",
      "+--------------+------------+-------------------+\n",
      "|1000022084d5a9|          89|                1.0|\n",
      "|100008e35c47a0|         867|0.09090909090909091|\n",
      "|100008e35c47a0|         255| 0.6363636363636364|\n",
      "|100008e35c47a0|         636| 0.2727272727272727|\n",
      "|1000105ca6b2b1|         435|                1.0|\n",
      "+--------------+------------+-------------------+\n",
      "only showing top 5 rows\n",
      "\n"
     ]
    }
   ],
   "source": [
    "se.read.parquet(\"/feat_publisher_freq.parquet\").show(5)"
   ]
  },
  {
   "cell_type": "code",
   "execution_count": 122,
   "metadata": {},
   "outputs": [],
   "source": [
    "se.sql(\"\"\"\n",
    "SELECT\n",
    "T.*,\n",
    "pf.freq\n",
    "FROM   (SELECT\n",
    "        bt.*,\n",
    "        dm.publisher_id\n",
    "        FROM baseline_train bt LEFT JOIN documents_meta dm\n",
    "        ON bt.ad_doc_id = dm.document_id) T LEFT JOIN pub_freq pf\n",
    "            ON (T.publisher_id = pf.publisher_id) AND (T.uuid = pf.uuid)\n",
    "\"\"\").write.parquet(\"/baseline_train_2.parquet\",mode=\"overwrite\")\n",
    "                   \n",
    "se.sql(\"\"\"\n",
    "SELECT\n",
    "T.*,\n",
    "pf.freq\n",
    "FROM   (SELECT\n",
    "        bt.*,\n",
    "        dm.publisher_id\n",
    "        FROM baseline_test bt LEFT JOIN documents_meta dm\n",
    "        ON bt.ad_doc_id = dm.document_id) T LEFT JOIN pub_freq pf\n",
    "            ON (T.publisher_id = pf.publisher_id) AND (T.uuid = pf.uuid)\n",
    "\"\"\").write.parquet(\"/baseline_test_2.parquet\",mode=\"overwrite\")                   "
   ]
  },
  {
   "cell_type": "code",
   "execution_count": 123,
   "metadata": {},
   "outputs": [],
   "source": [
    "df = se.read.parquet(\"/baseline_train_2.parquet\")\n",
    "df.registerTempTable(\"baseline_train\")\n",
    "df = se.read.parquet(\"/baseline_test_2.parquet\")\n",
    "df.registerTempTable(\"baseline_test\")"
   ]
  },
  {
   "cell_type": "code",
   "execution_count": 124,
   "metadata": {},
   "outputs": [
    {
     "name": "stdout",
     "output_type": "stream",
     "text": [
      "+--------------+-----------+----------+------+----------+---------+---------------+------------+------------+----+\n",
      "|          uuid|document_id|display_id| ad_id| timestamp|ad_doc_id|flag_ad_clicked|flag_ad_seen|publisher_id|freq|\n",
      "+--------------+-----------+----------+------+----------+---------+---------------+------------+------------+----+\n",
      "|1000615e760786|    2959725|  22991705|153060|1288970662|  1376367|           null|        null|        null|null|\n",
      "|1000615e760786|    2959725|  22991705|118016|1288970662|  1193086|           null|        null|        null|null|\n",
      "|1000615e760786|    2959725|  22991705|287742|1288970662|  1429646|           null|        null|        null|null|\n",
      "|1000615e760786|    2959725|  22991705| 85274|1288970662|   961909|           null|        null|        null|null|\n",
      "|1000615e760786|    2959725|  22991705|124564|1288970662|  1201265|           null|        null|        null|null|\n",
      "|10042103b7ff2b|    1314190|  20171775|277690|1149159940|  1666912|           null|        null|        null|null|\n",
      "|10042103b7ff2b|    1314190|  20171775|293747|1149159940|  1694556|           null|        null|        null|null|\n",
      "|10042103b7ff2b|    1314190|  20171775|161142|1149159940|   850713|           null|        null|        null|null|\n",
      "|10042103b7ff2b|    1314190|  20171772|  3301|1149159701|   352484|           null|        null|        null|null|\n",
      "|10042103b7ff2b|    1314190|  20171775|537640|1149159940|  2693192|           null|        null|        null|null|\n",
      "|10042103b7ff2b|    1314190|  20171772| 37981|1149159701|   906435|           null|        null|        null|null|\n",
      "|1007b9cd87526d|    2054052|  18767769| 76911| 723296473|  1080987|           null|        null|        null|null|\n",
      "|100bc3d05f3126|    2729482|  19471342|129594| 976631507|  1257190|           null|        null|        null|null|\n",
      "|100bc3d05f3126|    2729482|  19471342|198334| 976631507|  1504797|           null|        null|        null|null|\n",
      "|100bc3d05f3126|    2729482|  19471342|175858| 976631507|  1444013|           null|        null|        null|null|\n",
      "|100bc3d05f3126|    2729482|  19471342|219731| 976631507|  1553984|           null|        null|        null|null|\n",
      "|10135333f64db3|    2893318|  21998208|294406|1243559852|  1282140|           null|        null|        null|null|\n",
      "|10135333f64db3|    2893318|  21998208|167143|1243559852|  1326999|           null|        null|        null|null|\n",
      "|10135333f64db3|    2893318|  21998208|155992|1243559852|  1387598|           null|        null|        null|null|\n",
      "|10135333f64db3|    2893318|  21998208|167626|1243559852|  1326130|           null|        null|        null|null|\n",
      "+--------------+-----------+----------+------+----------+---------+---------------+------------+------------+----+\n",
      "only showing top 20 rows\n",
      "\n"
     ]
    }
   ],
   "source": [
    "df.show()"
   ]
  },
  {
   "cell_type": "code",
   "execution_count": 125,
   "metadata": {},
   "outputs": [
    {
     "data": {
      "text/plain": [
       "32225162"
      ]
     },
     "execution_count": 125,
     "metadata": {},
     "output_type": "execute_result"
    }
   ],
   "source": [
    "#32225162\n",
    "df = se.read.parquet(\"/baseline_test_2.parquet\")\n",
    "df.count()"
   ]
  },
  {
   "cell_type": "markdown",
   "metadata": {},
   "source": [
    "#### feat 4 - jaccard score of doc and ad_doc topics"
   ]
  },
  {
   "cell_type": "code",
   "execution_count": 134,
   "metadata": {},
   "outputs": [],
   "source": [
    "from pyspark.sql import Row"
   ]
  },
  {
   "cell_type": "code",
   "execution_count": 135,
   "metadata": {},
   "outputs": [],
   "source": [
    "doc_topic = se.read.parquet(\"s3://ydatazian/documents_topics.parquet\")\n",
    "page_view = se.read.parquet(\"s3://ydatazian/page_views_sample.parquet\")"
   ]
  },
  {
   "cell_type": "code",
   "execution_count": 136,
   "metadata": {},
   "outputs": [],
   "source": [
    "join_df = doc_topic.filter(doc_topic.confidence_level > 0.048) \\\n",
    "                   .select(doc_topic.document_id,doc_topic.topic_id)"
   ]
  },
  {
   "cell_type": "code",
   "execution_count": 137,
   "metadata": {},
   "outputs": [],
   "source": [
    "# set_df = join_df.groupBy(join_df.document_id).agg(f.concat_ws(\",\", f.collect_set(join_df.topic_id)).alias(\"set_list\"))"
   ]
  },
  {
   "cell_type": "code",
   "execution_count": 138,
   "metadata": {},
   "outputs": [
    {
     "name": "stdout",
     "output_type": "stream",
     "text": [
      "+-----------+------------------+\n",
      "|document_id|          set_list|\n",
      "+-----------+------------------+\n",
      "|     100010|              [16]|\n",
      "|    1000240|[20, 89, 143, 138]|\n",
      "|    1000280|        [199, 183]|\n",
      "+-----------+------------------+\n",
      "only showing top 3 rows\n",
      "\n"
     ]
    }
   ],
   "source": [
    "set_df = join_df.groupBy(join_df.document_id).agg(f.collect_set(join_df.topic_id).alias(\"set_list\"))\n",
    "set_df.show(3)"
   ]
  },
  {
   "cell_type": "code",
   "execution_count": 139,
   "metadata": {},
   "outputs": [],
   "source": [
    "set_df.write.parquet(\"/set_topics.parquet\",mode=\"overwrite\")\n",
    "set_df.registerTempTable(\"set_topics\")"
   ]
  },
  {
   "cell_type": "code",
   "execution_count": 140,
   "metadata": {},
   "outputs": [],
   "source": [
    "def jaccard(x):\n",
    "    if((x.doc_set_list is None) | (x.ad_doc_set_list is None) | (x is None)):\n",
    "        return {'display_id':x.display_id,'ad_id':x.ad_id,'jac_score':0.0}\n",
    "    top_1 = set(x.doc_set_list)\n",
    "    top_2 = set(x.ad_doc_set_list)\n",
    "    score = (len(top_1.intersection(top_2)) / len(top_1.union(top_2)))\n",
    "    mydict = {'display_id':x.display_id,'ad_id':x.ad_id,'jac_score':score}\n",
    "    return(mydict)"
   ]
  },
  {
   "cell_type": "code",
   "execution_count": 143,
   "metadata": {},
   "outputs": [],
   "source": [
    "se.sql(\"\"\"\n",
    "SELECT\n",
    "BASE.*,\n",
    "st2.set_list as ad_doc_set_list\n",
    "FROM (SELECT\n",
    "    bt.*,\n",
    "    st1.set_list as doc_set_list\n",
    "    FROM\n",
    "        baseline_train bt LEFT JOIN set_topics st1\n",
    "        on bt.document_id = st1.document_id) BASE\n",
    "        LEFT JOIN set_topics st2\n",
    "        on BASE.ad_doc_id = st2.document_id\n",
    "\"\"\").write.parquet(\"/baseline_train_with_topics.parquet\",mode=\"overwrite\")\n",
    "baseline_train = se.read.parquet(\"/baseline_train_with_topics.parquet\")\n",
    "baseline_train.registerTempTable(\"baseline_train_topics\")"
   ]
  },
  {
   "cell_type": "code",
   "execution_count": 144,
   "metadata": {},
   "outputs": [],
   "source": [
    "baseline_train.rdd.map(jaccard).saveAsPickleFile(\"/pickle_jaccard_train10.pickle\")\n",
    "rdd = sc.pickleFile(\"/pickle_jaccard_train10.pickle\")\n",
    "rdd_of_rows = rdd.map(lambda x: Row(**x))\n",
    "df = rdd_of_rows.toDF()\n",
    "df.write.parquet(\"\\train_jac_score.parquet\",mode=\"overwrite\")\n",
    "df.registerTempTable(\"train_jac_score\")"
   ]
  },
  {
   "cell_type": "code",
   "execution_count": 145,
   "metadata": {},
   "outputs": [],
   "source": [
    "se.sql(\"\"\"\n",
    "SELECT\n",
    "BASE.*,\n",
    "st2.set_list as ad_doc_set_list\n",
    "FROM (SELECT\n",
    "    bt.*,\n",
    "    st1.set_list as doc_set_list\n",
    "    FROM\n",
    "        baseline_test bt LEFT JOIN set_topics st1\n",
    "        on bt.document_id = st1.document_id) BASE\n",
    "        LEFT JOIN set_topics st2\n",
    "        on BASE.ad_doc_id = st2.document_id\n",
    "\"\"\").write.parquet(\"/baseline_test_with_topics.parquet\",mode=\"overwrite\")\n",
    "baseline_test = se.read.parquet(\"/baseline_test_with_topics.parquet\")\n",
    "baseline_test.registerTempTable(\"baseline_test_topics\")"
   ]
  },
  {
   "cell_type": "code",
   "execution_count": 146,
   "metadata": {},
   "outputs": [],
   "source": [
    "baseline_test.rdd.map(jaccard).saveAsPickleFile(\"/pickle_jaccard_test6.pickle\")\n",
    "rdd = sc.pickleFile(\"/pickle_jaccard_test6.pickle\")\n",
    "rdd_of_rows = rdd.map(lambda x: Row(**x))\n",
    "df = rdd_of_rows.toDF()\n",
    "df.write.parquet(\"\\test_jac_score.parquet\",mode=\"overwrite\")\n",
    "df.registerTempTable(\"test_jac_score\")"
   ]
  },
  {
   "cell_type": "code",
   "execution_count": 147,
   "metadata": {},
   "outputs": [
    {
     "name": "stdout",
     "output_type": "stream",
     "text": [
      "+-----+----------+---------+\n",
      "|ad_id|display_id|jac_score|\n",
      "+-----+----------+---------+\n",
      "|59937|    593656|      0.0|\n",
      "|59937|    753683|      0.0|\n",
      "|59937|    661032|      0.0|\n",
      "+-----+----------+---------+\n",
      "only showing top 3 rows\n",
      "\n"
     ]
    }
   ],
   "source": [
    "se.sql(\"\"\"\n",
    "select *\n",
    "from train_jac_score\"\"\").show(3)"
   ]
  },
  {
   "cell_type": "code",
   "execution_count": 148,
   "metadata": {},
   "outputs": [],
   "source": [
    "se.sql(\"\"\"\n",
    "SELECT \n",
    "bt.*,\n",
    "tjc.jac_score as jac_score\n",
    "FROM baseline_train bt LEFT JOIN train_jac_score tjc\n",
    "ON (bt.ad_id = tjc.ad_id) AND (bt.display_id = tjc.display_id)\n",
    "\"\"\").write.parquet(\"/baseline_train.parquet\",mode=\"overwrite\")\n",
    "\n",
    "se.sql(\"\"\"\n",
    "SELECT \n",
    "bt.*,\n",
    "tjc.jac_score as jac_score\n",
    "FROM baseline_test bt LEFT JOIN train_jac_score tjc\n",
    "ON (bt.ad_id = tjc.ad_id) AND (bt.display_id = tjc.display_id)\n",
    "\"\"\").write.parquet(\"/baseline_test.parquet\",mode=\"overwrite\")"
   ]
  },
  {
   "cell_type": "code",
   "execution_count": 149,
   "metadata": {},
   "outputs": [],
   "source": [
    "df = se.read.parquet(\"/baseline_train.parquet\")\n",
    "df.registerTempTable(\"baseline_train\")\n",
    "df = se.read.parquet(\"/baseline_test.parquet\")\n",
    "df.registerTempTable(\"baseline_test\")"
   ]
  },
  {
   "cell_type": "code",
   "execution_count": 150,
   "metadata": {},
   "outputs": [
    {
     "name": "stdout",
     "output_type": "stream",
     "text": [
      "+--------------+-----------+----------+------+----------+---------+---------------+------------+------------+----+---------+\n",
      "|          uuid|document_id|display_id| ad_id| timestamp|ad_doc_id|flag_ad_clicked|flag_ad_seen|publisher_id|freq|jac_score|\n",
      "+--------------+-----------+----------+------+----------+---------+---------------+------------+------------+----+---------+\n",
      "|ba1a1c1ca4eda7|     279789|  22287839|100023|1255800522|  1134055|           null|        null|        null|null|     null|\n",
      "|dadec92e81475e|    1874495|  17113957|100074|  80862164|  1149622|           null|        null|        1142|null|     null|\n",
      "|2c27508d68df25|    1363126|  22157897|100114|1250429171|  1029185|           null|        null|         866|null|     null|\n",
      "+--------------+-----------+----------+------+----------+---------+---------------+------------+------------+----+---------+\n",
      "only showing top 3 rows\n",
      "\n"
     ]
    }
   ],
   "source": [
    "df.show(3)"
   ]
  },
  {
   "cell_type": "code",
   "execution_count": 151,
   "metadata": {},
   "outputs": [
    {
     "data": {
      "text/plain": [
       "32225162"
      ]
     },
     "execution_count": 151,
     "metadata": {},
     "output_type": "execute_result"
    }
   ],
   "source": [
    "#32225162\n",
    "df = se.read.parquet(\"/baseline_test.parquet\")\n",
    "df.count()"
   ]
  },
  {
   "cell_type": "markdown",
   "metadata": {},
   "source": [
    "### ADD ALL OTHER DETAILS OF KNOWN CELLS"
   ]
  },
  {
   "cell_type": "markdown",
   "metadata": {},
   "source": [
    "#### GEO LOCATION AND PLATFORM"
   ]
  },
  {
   "cell_type": "code",
   "execution_count": 152,
   "metadata": {},
   "outputs": [],
   "source": [
    "df = se.sql(\"\"\"\n",
    "SELECT\n",
    "    bt.*,\n",
    "    e.geo_location,\n",
    "    e.platform\n",
    "from baseline_train bt LEFT JOIN events e\n",
    "ON (e.uuid = bt.uuid) AND (e.document_id = bt.document_id)\n",
    "\"\"\")\n",
    "df.withColumn(\"geo_country\", f.split(\"geo_location\",\">\")[0])\\\n",
    "  .withColumn(\"geo_state\", f.split(\"geo_location\",\">\")[1])\\\n",
    "  .withColumn(\"geo_dist\", f.split(\"geo_location\",\">\")[2]).write.parquet(\"\\baseline_train.parquet\",mode=\"overwrite\")\n",
    "df.registerTempTable(\"baseline_train\")"
   ]
  },
  {
   "cell_type": "code",
   "execution_count": 153,
   "metadata": {},
   "outputs": [],
   "source": [
    "df = se.sql(\"\"\"\n",
    "SELECT\n",
    "    bt.*,\n",
    "    e.geo_location,\n",
    "    e.platform\n",
    "from baseline_test bt LEFT JOIN events e\n",
    "ON (e.uuid = bt.uuid) AND (e.document_id = bt.document_id)\n",
    "\"\"\")\n",
    "df.withColumn(\"geo_country\", f.split(\"geo_location\",\">\")[0])\\\n",
    "  .withColumn(\"geo_state\", f.split(\"geo_location\",\">\")[1])\\\n",
    "  .withColumn(\"geo_dist\", f.split(\"geo_location\",\">\")[2]).write.parquet(\"\\baseline_test.parquet\",mode=\"overwrite\")\n",
    "df.registerTempTable(\"baseline_test\")\n"
   ]
  },
  {
   "cell_type": "markdown",
   "metadata": {},
   "source": [
    "#### AD CAMPAIGN AND ADVERTISER ID"
   ]
  },
  {
   "cell_type": "code",
   "execution_count": 154,
   "metadata": {},
   "outputs": [],
   "source": [
    "df = se.sql(\"\"\"\n",
    "SELECT \n",
    "bt.*,\n",
    "pc.campaign_id,\n",
    "pc.advertiser_id\n",
    "FROM baseline_train bt JOIN promoted_content pc\n",
    "    ON bt.ad_id = pc.ad_id\n",
    "\"\"\")\n",
    "df.write.parquet(\"\\baseline_train.parquet\",mode=\"overwrite\")\n",
    "df.registerTempTable(\"baseline_train\")\n",
    "\n",
    "df = se.sql(\"\"\"\n",
    "SELECT \n",
    "bt.*,\n",
    "pc.campaign_id,\n",
    "pc.advertiser_id\n",
    "FROM baseline_test bt JOIN promoted_content pc\n",
    "    ON bt.ad_id = pc.ad_id\n",
    "\"\"\")\n",
    "df.write.parquet(\"\\baseline_test.parquet\",mode=\"overwrite\")\n",
    "df.registerTempTable(\"baseline_test\")\n"
   ]
  },
  {
   "cell_type": "code",
   "execution_count": 155,
   "metadata": {},
   "outputs": [
    {
     "name": "stdout",
     "output_type": "stream",
     "text": [
      "+--------------+-----------+----------+------+----------+---------+---------------+------------+------------+----+---------+------------+--------+-----------+-------------+\n",
      "|          uuid|document_id|display_id| ad_id| timestamp|ad_doc_id|flag_ad_clicked|flag_ad_seen|publisher_id|freq|jac_score|geo_location|platform|campaign_id|advertiser_id|\n",
      "+--------------+-----------+----------+------+----------+---------+---------------+------------+------------+----+---------+------------+--------+-----------+-------------+\n",
      "|1002c599dbe8da|    2851078|  20493995|156936|1163149548|  1389098|           null|        null|        null|null|     null|       US>TX|       2|      19873|         1048|\n",
      "+--------------+-----------+----------+------+----------+---------+---------------+------------+------------+----+---------+------------+--------+-----------+-------------+\n",
      "only showing top 1 row\n",
      "\n"
     ]
    }
   ],
   "source": [
    "df.show(1)"
   ]
  },
  {
   "cell_type": "markdown",
   "metadata": {},
   "source": [
    "#### all entities"
   ]
  },
  {
   "cell_type": "code",
   "execution_count": 156,
   "metadata": {},
   "outputs": [],
   "source": [
    "df_topics = se.sql(\"\"\"select * from documents_topics\"\"\")\n",
    "df_topics = df_topics.groupby(\"document_id\").agg(f.collect_list(f.struct(\"topic_id\",\"confidence_level\")).alias(\"list_topics\"))"
   ]
  },
  {
   "cell_type": "code",
   "execution_count": 157,
   "metadata": {},
   "outputs": [],
   "source": [
    "df_entities = se.sql(\"\"\"select * from documents_entities\"\"\")\n",
    "df_entities = df_entities.groupby(\"document_id\").agg(f.collect_list(f.struct(\"entity_id\",\"confidence_level\")).alias(\"list_entities\"))"
   ]
  },
  {
   "cell_type": "code",
   "execution_count": 158,
   "metadata": {},
   "outputs": [],
   "source": [
    "df_categories = se.sql(\"\"\"select * from documents_categories\"\"\")\n",
    "df_categories = df_categories.groupby(\"document_id\").agg(f.collect_list(f.struct(\"category_id\",\"confidence_level\")).alias(\"list_categories\"))"
   ]
  },
  {
   "cell_type": "code",
   "execution_count": 159,
   "metadata": {},
   "outputs": [],
   "source": [
    "df = df_topics.join(df_entities,df_topics.document_id == df_entities.document_id,'full_outer').select(\"documents_topics.document_id\",\"list_topics\",\"list_entities\")\n",
    "df = df.join(df_categories, df.document_id == df_categories.document_id,'full_outer').select(\"documents_topics.document_id\",\"list_topics\",\"list_entities\",\"list_categories\")"
   ]
  },
  {
   "cell_type": "code",
   "execution_count": 160,
   "metadata": {},
   "outputs": [],
   "source": [
    "df.write.parquet(\"\\feat_lists_tuple.parquet\",mode=\"overwrite\")\n",
    "df.registerTempTable(\"feat_lists\")"
   ]
  },
  {
   "cell_type": "code",
   "execution_count": 161,
   "metadata": {},
   "outputs": [
    {
     "name": "stdout",
     "output_type": "stream",
     "text": [
      "+-----------+--------------------+--------------------+--------------------+\n",
      "|document_id|         list_topics|       list_entities|     list_categories|\n",
      "+-----------+--------------------+--------------------+--------------------+\n",
      "|     100010|[[16, 0.079073048...|[[e02abf90d2468f5...|[[1513, 0.7984279...|\n",
      "+-----------+--------------------+--------------------+--------------------+\n",
      "only showing top 1 row\n",
      "\n"
     ]
    }
   ],
   "source": [
    "df.show(1)"
   ]
  },
  {
   "cell_type": "code",
   "execution_count": 162,
   "metadata": {},
   "outputs": [],
   "source": [
    "df = se.sql(\"\"\"\n",
    "SELECT\n",
    "    bt.*,\n",
    "    fl.list_entities,\n",
    "    fl.list_topics,\n",
    "    fl.list_categories\n",
    "from baseline_train bt LEFT JOIN feat_lists fl\n",
    "ON bt.document_id = fl.document_id\n",
    "\"\"\")\n",
    "df.write.parquet(\"\\baseline_train.parquet\",mode=\"overwrite\")\n",
    "df.registerTempTable(\"baseline_train\")\n",
    "\n",
    "df = se.sql(\"\"\"\n",
    "SELECT\n",
    "    bt.*,\n",
    "    fl.list_entities,\n",
    "    fl.list_topics,\n",
    "    fl.list_categories\n",
    "from baseline_test bt LEFT JOIN feat_lists fl\n",
    "ON bt.document_id = fl.document_id\n",
    "\"\"\")\n",
    "df.write.parquet(\"\\baseline_test.parquet\",mode=\"overwrite\")\n",
    "df.registerTempTable(\"baseline_test\")\n"
   ]
  },
  {
   "cell_type": "code",
   "execution_count": 163,
   "metadata": {},
   "outputs": [],
   "source": [
    "from pyspark.sql.types import StringType"
   ]
  },
  {
   "cell_type": "code",
   "execution_count": 164,
   "metadata": {},
   "outputs": [],
   "source": [
    "df = se.sql(\"\"\"select * from baseline_test\"\"\")\n",
    "df2 = df.withColumn('clicked', f.lit(None).cast(StringType()))\n",
    "df2.write.parquet(\"\\baseline_test.parquet\",mode=\"overwrite\")"
   ]
  },
  {
   "cell_type": "code",
   "execution_count": 165,
   "metadata": {},
   "outputs": [],
   "source": [
    "df2.registerTempTable(\"baseline_test\")"
   ]
  },
  {
   "cell_type": "markdown",
   "metadata": {},
   "source": [
    "## VW MAPPER"
   ]
  },
  {
   "cell_type": "code",
   "execution_count": 166,
   "metadata": {},
   "outputs": [],
   "source": [
    "# NSUU for namespace User // NSD for namespace Document\n",
    "# CAT for categorial // CON for continous // LIST for list\n",
    "se.sql(\"\"\"\n",
    "SELECT \n",
    "\n",
    "uuid as NSUU_CAT_uuid,\n",
    "document_id as NDS_CAT_doc_id,\n",
    "display_id as NSD_CAT_dis_id,\n",
    "ad_id as NSD_CAT_ad_id,\n",
    "ad_doc_id as NSD_CAT_ad_doc_id,\n",
    "flag_ad_clicked as NSUU_CAT_flag_ad_clicked,\n",
    "flag_ad_seen as NSUU_CAT_flag_ad_seen,\n",
    "publisher_id as NSD_CAT_pub_id,\n",
    "freq as NSUU_CON_freq,\n",
    "jac_score as NSD_CON_jac_score,\n",
    "campaign_id as NSD_CAT_campaign_id,\n",
    "advertiser_id as NSD_CAT_advertiser_id,\n",
    "list_entities as NSD_LIST_entities,\n",
    "list_topics as NSD_LIST_topics,\n",
    "list_categories as NSD_LIST_categories,\n",
    "geo_location as NSUU_CAT_geo,\n",
    "platform as NSUU_CAT_platform,\n",
    "clicked\n",
    "\n",
    "FROM baseline_test\n",
    "\"\"\").write.parquet(\"/vw_feat_test.parquet\",mode=\"overwrite\")\n",
    "\n",
    "se.sql(\"\"\"\n",
    "SELECT \n",
    "\n",
    "uuid as NSUU_CAT_uuid,\n",
    "document_id as NDS_CAT_doc_id,\n",
    "display_id as NSD_CAT_dis_id,\n",
    "ad_id as NSD_CAT_ad_id,\n",
    "ad_doc_id as NSD_CAT_ad_doc_id,\n",
    "flag_ad_clicked as NSUU_CAT_flag_ad_clicked,\n",
    "flag_ad_seen as NSUU_CAT_flag_ad_seen,\n",
    "publisher_id as NSD_CAT_pub_id,\n",
    "freq as NSUU_CON_freq,\n",
    "jac_score as NSD_CON_jac_score,\n",
    "campaign_id as NSD_CAT_campaign_id,\n",
    "advertiser_id as NSD_CAT_advertiser_id,\n",
    "list_entities as NSD_LIST_entities,\n",
    "list_topics as NSD_LIST_topics,\n",
    "list_categories as NSD_LIST_categories,\n",
    "geo_location as NSUU_CAT_geo,\n",
    "platform as NSUU_CAT_platform,\n",
    "clicked\n",
    "\n",
    "FROM baseline_train\n",
    "\"\"\").write.parquet(\"/vw_feat_train.parquet\",mode=\"overwrite\")"
   ]
  },
  {
   "cell_type": "code",
   "execution_count": 167,
   "metadata": {},
   "outputs": [
    {
     "name": "stdout",
     "output_type": "stream",
     "text": [
      "+--------------+--------------+--------------+-------------+-----------------+------------------------+---------------------+--------------+-------------+-----------------+-------------------+---------------------+-----------------+--------------------+--------------------+------------+-----------------+-------+\n",
      "| NSUU_CAT_uuid|NDS_CAT_doc_id|NSD_CAT_dis_id|NSD_CAT_ad_id|NSD_CAT_ad_doc_id|NSUU_CAT_flag_ad_clicked|NSUU_CAT_flag_ad_seen|NSD_CAT_pub_id|NSUU_CON_freq|NSD_CON_jac_score|NSD_CAT_campaign_id|NSD_CAT_advertiser_id|NSD_LIST_entities|     NSD_LIST_topics| NSD_LIST_categories|NSUU_CAT_geo|NSUU_CAT_platform|clicked|\n",
      "+--------------+--------------+--------------+-------------+-----------------+------------------------+---------------------+--------------+-------------+-----------------+-------------------+---------------------+-----------------+--------------------+--------------------+------------+-----------------+-------+\n",
      "|53b567c20a8eb2|       1000240|      12873428|       466073|          2288665|                       1|                    1|          null|         null|              0.2|              31899|                 1108|             null|[[138, 0.08946834...|[[1505, 0.92], [1...|          GB|                3|      0|\n",
      "+--------------+--------------+--------------+-------------+-----------------+------------------------+---------------------+--------------+-------------+-----------------+-------------------+---------------------+-----------------+--------------------+--------------------+------------+-----------------+-------+\n",
      "only showing top 1 row\n",
      "\n"
     ]
    }
   ],
   "source": [
    "se.read.parquet(\"/vw_feat_train.parquet\").show(1)"
   ]
  },
  {
   "cell_type": "code",
   "execution_count": 169,
   "metadata": {},
   "outputs": [
    {
     "data": {
      "text/plain": [
       "92274377"
      ]
     },
     "execution_count": 169,
     "metadata": {},
     "output_type": "execute_result"
    }
   ],
   "source": [
    "#32225162\n",
    "df = se.read.parquet(\"/vw_feat_train.parquet\")\n",
    "df.count()"
   ]
  },
  {
   "cell_type": "code",
   "execution_count": null,
   "metadata": {},
   "outputs": [],
   "source": [
    "651346 HAVE\n",
    "32225162 TOTAL\n",
    "6245533 NEED"
   ]
  }
 ],
 "metadata": {
  "kernelspec": {
   "display_name": "Python 3",
   "language": "python",
   "name": "python3"
  },
  "language_info": {
   "codemirror_mode": {
    "name": "ipython",
    "version": 3
   },
   "file_extension": ".py",
   "mimetype": "text/x-python",
   "name": "python",
   "nbconvert_exporter": "python",
   "pygments_lexer": "ipython3",
   "version": "3.6.8"
  }
 },
 "nbformat": 4,
 "nbformat_minor": 4
}
