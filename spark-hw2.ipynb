{
 "cells": [
  {
   "cell_type": "code",
   "execution_count": 4,
   "metadata": {},
   "outputs": [],
   "source": [
    "# Checklist:\n",
    "# AWS emr-5.29.0\n",
    "# MASTER r5d.8xlarge 1x, no EBS\n",
    "# CORE r5d.8xlarge 4x, no EBS\n",
    "# Custom bootstrap action: s3://ydatazian/bootstrap.sh\n",
    "# Allow ssh in master node security group"
   ]
  },
  {
   "cell_type": "code",
   "execution_count": 101,
   "metadata": {},
   "outputs": [],
   "source": [
    "import tqdm.notebook as tqdm\n",
    "import numpy as np\n",
    "import scipy\n",
    "import sklearn\n",
    "import matplotlib.pyplot as plt\n",
    "import datetime"
   ]
  },
  {
   "cell_type": "markdown",
   "metadata": {},
   "source": [
    "# SparkSession\n",
    "\n",
    "https://spark.apache.org/docs/2.4.4/api/python/pyspark.html\n",
    "\n",
    "https://spark.apache.org/docs/2.4.4/api/python/pyspark.sql.html"
   ]
  },
  {
   "cell_type": "code",
   "execution_count": 7,
   "metadata": {
    "scrolled": true
   },
   "outputs": [
    {
     "name": "stdout",
     "output_type": "stream",
     "text": [
      "NameNode: http://ec2-18-188-140-254.us-east-2.compute.amazonaws.com:50070\n",
      "YARN: http://ec2-18-188-140-254.us-east-2.compute.amazonaws.com:8088\n",
      "Spark UI: http://ec2-18-188-140-254.us-east-2.compute.amazonaws.com:20888/proxy/application_1590906759072_0002\n"
     ]
    }
   ],
   "source": [
    "import findspark\n",
    "findspark.init()\n",
    "\n",
    "import spark_utils\n",
    "from pyspark import SparkContext, SparkConf\n",
    "from pyspark.sql import SparkSession\n",
    "sc = SparkContext(\"yarn\", \"My App\", conf=spark_utils.get_spark_conf())\n",
    "se = SparkSession(sc)\n",
    "spark_utils.print_ui_links()"
   ]
  },
  {
   "cell_type": "markdown",
   "metadata": {},
   "source": [
    "# Register all tables for sql queries"
   ]
  },
  {
   "cell_type": "code",
   "execution_count": 8,
   "metadata": {},
   "outputs": [
    {
     "data": {
      "application/vnd.jupyter.widget-view+json": {
       "model_id": "ba4235eccb3c46b8a0e4bc41ed349d79",
       "version_major": 2,
       "version_minor": 0
      },
      "text/plain": [
       "HBox(children=(FloatProgress(value=0.0, max=10.0), HTML(value='')))"
      ]
     },
     "metadata": {},
     "output_type": "display_data"
    },
    {
     "name": "stdout",
     "output_type": "stream",
     "text": [
      "clicks_test\n"
     ]
    },
    {
     "data": {
      "text/html": [
       "<div>\n",
       "<style scoped>\n",
       "    .dataframe tbody tr th:only-of-type {\n",
       "        vertical-align: middle;\n",
       "    }\n",
       "\n",
       "    .dataframe tbody tr th {\n",
       "        vertical-align: top;\n",
       "    }\n",
       "\n",
       "    .dataframe thead th {\n",
       "        text-align: right;\n",
       "    }\n",
       "</style>\n",
       "<table border=\"1\" class=\"dataframe\">\n",
       "  <thead>\n",
       "    <tr style=\"text-align: right;\">\n",
       "      <th></th>\n",
       "      <th>display_id</th>\n",
       "      <th>ad_id</th>\n",
       "    </tr>\n",
       "  </thead>\n",
       "  <tbody>\n",
       "    <tr>\n",
       "      <th>0</th>\n",
       "      <td>16874594</td>\n",
       "      <td>66758</td>\n",
       "    </tr>\n",
       "    <tr>\n",
       "      <th>1</th>\n",
       "      <td>16874594</td>\n",
       "      <td>150083</td>\n",
       "    </tr>\n",
       "    <tr>\n",
       "      <th>2</th>\n",
       "      <td>16874594</td>\n",
       "      <td>162754</td>\n",
       "    </tr>\n",
       "  </tbody>\n",
       "</table>\n",
       "</div>"
      ],
      "text/plain": [
       "  display_id   ad_id\n",
       "0   16874594   66758\n",
       "1   16874594  150083\n",
       "2   16874594  162754"
      ]
     },
     "metadata": {},
     "output_type": "display_data"
    },
    {
     "name": "stdout",
     "output_type": "stream",
     "text": [
      "clicks_train\n"
     ]
    },
    {
     "data": {
      "text/html": [
       "<div>\n",
       "<style scoped>\n",
       "    .dataframe tbody tr th:only-of-type {\n",
       "        vertical-align: middle;\n",
       "    }\n",
       "\n",
       "    .dataframe tbody tr th {\n",
       "        vertical-align: top;\n",
       "    }\n",
       "\n",
       "    .dataframe thead th {\n",
       "        text-align: right;\n",
       "    }\n",
       "</style>\n",
       "<table border=\"1\" class=\"dataframe\">\n",
       "  <thead>\n",
       "    <tr style=\"text-align: right;\">\n",
       "      <th></th>\n",
       "      <th>display_id</th>\n",
       "      <th>ad_id</th>\n",
       "      <th>clicked</th>\n",
       "    </tr>\n",
       "  </thead>\n",
       "  <tbody>\n",
       "    <tr>\n",
       "      <th>0</th>\n",
       "      <td>1</td>\n",
       "      <td>42337</td>\n",
       "      <td>0</td>\n",
       "    </tr>\n",
       "    <tr>\n",
       "      <th>1</th>\n",
       "      <td>1</td>\n",
       "      <td>139684</td>\n",
       "      <td>0</td>\n",
       "    </tr>\n",
       "    <tr>\n",
       "      <th>2</th>\n",
       "      <td>1</td>\n",
       "      <td>144739</td>\n",
       "      <td>1</td>\n",
       "    </tr>\n",
       "  </tbody>\n",
       "</table>\n",
       "</div>"
      ],
      "text/plain": [
       "  display_id   ad_id clicked\n",
       "0          1   42337       0\n",
       "1          1  139684       0\n",
       "2          1  144739       1"
      ]
     },
     "metadata": {},
     "output_type": "display_data"
    },
    {
     "name": "stdout",
     "output_type": "stream",
     "text": [
      "documents_categories\n"
     ]
    },
    {
     "data": {
      "text/html": [
       "<div>\n",
       "<style scoped>\n",
       "    .dataframe tbody tr th:only-of-type {\n",
       "        vertical-align: middle;\n",
       "    }\n",
       "\n",
       "    .dataframe tbody tr th {\n",
       "        vertical-align: top;\n",
       "    }\n",
       "\n",
       "    .dataframe thead th {\n",
       "        text-align: right;\n",
       "    }\n",
       "</style>\n",
       "<table border=\"1\" class=\"dataframe\">\n",
       "  <thead>\n",
       "    <tr style=\"text-align: right;\">\n",
       "      <th></th>\n",
       "      <th>document_id</th>\n",
       "      <th>category_id</th>\n",
       "      <th>confidence_level</th>\n",
       "    </tr>\n",
       "  </thead>\n",
       "  <tbody>\n",
       "    <tr>\n",
       "      <th>0</th>\n",
       "      <td>1595802</td>\n",
       "      <td>1611</td>\n",
       "      <td>0.92</td>\n",
       "    </tr>\n",
       "    <tr>\n",
       "      <th>1</th>\n",
       "      <td>1595802</td>\n",
       "      <td>1610</td>\n",
       "      <td>0.07</td>\n",
       "    </tr>\n",
       "    <tr>\n",
       "      <th>2</th>\n",
       "      <td>1524246</td>\n",
       "      <td>1807</td>\n",
       "      <td>0.92</td>\n",
       "    </tr>\n",
       "  </tbody>\n",
       "</table>\n",
       "</div>"
      ],
      "text/plain": [
       "  document_id category_id confidence_level\n",
       "0     1595802        1611             0.92\n",
       "1     1595802        1610             0.07\n",
       "2     1524246        1807             0.92"
      ]
     },
     "metadata": {},
     "output_type": "display_data"
    },
    {
     "name": "stdout",
     "output_type": "stream",
     "text": [
      "documents_entities\n"
     ]
    },
    {
     "data": {
      "text/html": [
       "<div>\n",
       "<style scoped>\n",
       "    .dataframe tbody tr th:only-of-type {\n",
       "        vertical-align: middle;\n",
       "    }\n",
       "\n",
       "    .dataframe tbody tr th {\n",
       "        vertical-align: top;\n",
       "    }\n",
       "\n",
       "    .dataframe thead th {\n",
       "        text-align: right;\n",
       "    }\n",
       "</style>\n",
       "<table border=\"1\" class=\"dataframe\">\n",
       "  <thead>\n",
       "    <tr style=\"text-align: right;\">\n",
       "      <th></th>\n",
       "      <th>document_id</th>\n",
       "      <th>entity_id</th>\n",
       "      <th>confidence_level</th>\n",
       "    </tr>\n",
       "  </thead>\n",
       "  <tbody>\n",
       "    <tr>\n",
       "      <th>0</th>\n",
       "      <td>1524246</td>\n",
       "      <td>f9eec25663db4cd83183f5c805186f16</td>\n",
       "      <td>0.672865314504701</td>\n",
       "    </tr>\n",
       "    <tr>\n",
       "      <th>1</th>\n",
       "      <td>1524246</td>\n",
       "      <td>55ebcfbdaff1d6f60b3907151f38527a</td>\n",
       "      <td>0.399113728441297</td>\n",
       "    </tr>\n",
       "    <tr>\n",
       "      <th>2</th>\n",
       "      <td>1524246</td>\n",
       "      <td>839907a972930b17b125eb0247898412</td>\n",
       "      <td>0.392095749652966</td>\n",
       "    </tr>\n",
       "  </tbody>\n",
       "</table>\n",
       "</div>"
      ],
      "text/plain": [
       "  document_id                         entity_id   confidence_level\n",
       "0     1524246  f9eec25663db4cd83183f5c805186f16  0.672865314504701\n",
       "1     1524246  55ebcfbdaff1d6f60b3907151f38527a  0.399113728441297\n",
       "2     1524246  839907a972930b17b125eb0247898412  0.392095749652966"
      ]
     },
     "metadata": {},
     "output_type": "display_data"
    },
    {
     "name": "stdout",
     "output_type": "stream",
     "text": [
      "documents_meta\n"
     ]
    },
    {
     "data": {
      "text/html": [
       "<div>\n",
       "<style scoped>\n",
       "    .dataframe tbody tr th:only-of-type {\n",
       "        vertical-align: middle;\n",
       "    }\n",
       "\n",
       "    .dataframe tbody tr th {\n",
       "        vertical-align: top;\n",
       "    }\n",
       "\n",
       "    .dataframe thead th {\n",
       "        text-align: right;\n",
       "    }\n",
       "</style>\n",
       "<table border=\"1\" class=\"dataframe\">\n",
       "  <thead>\n",
       "    <tr style=\"text-align: right;\">\n",
       "      <th></th>\n",
       "      <th>document_id</th>\n",
       "      <th>source_id</th>\n",
       "      <th>publisher_id</th>\n",
       "      <th>publish_time</th>\n",
       "    </tr>\n",
       "  </thead>\n",
       "  <tbody>\n",
       "    <tr>\n",
       "      <th>0</th>\n",
       "      <td>1595802</td>\n",
       "      <td>1</td>\n",
       "      <td>603</td>\n",
       "      <td>2016-06-05 00:00:00</td>\n",
       "    </tr>\n",
       "    <tr>\n",
       "      <th>1</th>\n",
       "      <td>1524246</td>\n",
       "      <td>1</td>\n",
       "      <td>603</td>\n",
       "      <td>2016-05-26 11:00:00</td>\n",
       "    </tr>\n",
       "    <tr>\n",
       "      <th>2</th>\n",
       "      <td>1617787</td>\n",
       "      <td>1</td>\n",
       "      <td>603</td>\n",
       "      <td>2016-05-27 00:00:00</td>\n",
       "    </tr>\n",
       "  </tbody>\n",
       "</table>\n",
       "</div>"
      ],
      "text/plain": [
       "  document_id source_id publisher_id         publish_time\n",
       "0     1595802         1          603  2016-06-05 00:00:00\n",
       "1     1524246         1          603  2016-05-26 11:00:00\n",
       "2     1617787         1          603  2016-05-27 00:00:00"
      ]
     },
     "metadata": {},
     "output_type": "display_data"
    },
    {
     "name": "stdout",
     "output_type": "stream",
     "text": [
      "documents_topics\n"
     ]
    },
    {
     "data": {
      "text/html": [
       "<div>\n",
       "<style scoped>\n",
       "    .dataframe tbody tr th:only-of-type {\n",
       "        vertical-align: middle;\n",
       "    }\n",
       "\n",
       "    .dataframe tbody tr th {\n",
       "        vertical-align: top;\n",
       "    }\n",
       "\n",
       "    .dataframe thead th {\n",
       "        text-align: right;\n",
       "    }\n",
       "</style>\n",
       "<table border=\"1\" class=\"dataframe\">\n",
       "  <thead>\n",
       "    <tr style=\"text-align: right;\">\n",
       "      <th></th>\n",
       "      <th>document_id</th>\n",
       "      <th>topic_id</th>\n",
       "      <th>confidence_level</th>\n",
       "    </tr>\n",
       "  </thead>\n",
       "  <tbody>\n",
       "    <tr>\n",
       "      <th>0</th>\n",
       "      <td>1595802</td>\n",
       "      <td>140</td>\n",
       "      <td>0.0731131601068925</td>\n",
       "    </tr>\n",
       "    <tr>\n",
       "      <th>1</th>\n",
       "      <td>1595802</td>\n",
       "      <td>16</td>\n",
       "      <td>0.0594164867373976</td>\n",
       "    </tr>\n",
       "    <tr>\n",
       "      <th>2</th>\n",
       "      <td>1595802</td>\n",
       "      <td>143</td>\n",
       "      <td>0.0454207537554526</td>\n",
       "    </tr>\n",
       "  </tbody>\n",
       "</table>\n",
       "</div>"
      ],
      "text/plain": [
       "  document_id topic_id    confidence_level\n",
       "0     1595802      140  0.0731131601068925\n",
       "1     1595802       16  0.0594164867373976\n",
       "2     1595802      143  0.0454207537554526"
      ]
     },
     "metadata": {},
     "output_type": "display_data"
    },
    {
     "name": "stdout",
     "output_type": "stream",
     "text": [
      "events\n"
     ]
    },
    {
     "data": {
      "text/html": [
       "<div>\n",
       "<style scoped>\n",
       "    .dataframe tbody tr th:only-of-type {\n",
       "        vertical-align: middle;\n",
       "    }\n",
       "\n",
       "    .dataframe tbody tr th {\n",
       "        vertical-align: top;\n",
       "    }\n",
       "\n",
       "    .dataframe thead th {\n",
       "        text-align: right;\n",
       "    }\n",
       "</style>\n",
       "<table border=\"1\" class=\"dataframe\">\n",
       "  <thead>\n",
       "    <tr style=\"text-align: right;\">\n",
       "      <th></th>\n",
       "      <th>display_id</th>\n",
       "      <th>uuid</th>\n",
       "      <th>document_id</th>\n",
       "      <th>timestamp</th>\n",
       "      <th>platform</th>\n",
       "      <th>geo_location</th>\n",
       "    </tr>\n",
       "  </thead>\n",
       "  <tbody>\n",
       "    <tr>\n",
       "      <th>0</th>\n",
       "      <td>1</td>\n",
       "      <td>cb8c55702adb93</td>\n",
       "      <td>379743</td>\n",
       "      <td>61</td>\n",
       "      <td>3</td>\n",
       "      <td>US&gt;SC&gt;519</td>\n",
       "    </tr>\n",
       "    <tr>\n",
       "      <th>1</th>\n",
       "      <td>2</td>\n",
       "      <td>79a85fa78311b9</td>\n",
       "      <td>1794259</td>\n",
       "      <td>81</td>\n",
       "      <td>2</td>\n",
       "      <td>US&gt;CA&gt;807</td>\n",
       "    </tr>\n",
       "    <tr>\n",
       "      <th>2</th>\n",
       "      <td>3</td>\n",
       "      <td>822932ce3d8757</td>\n",
       "      <td>1179111</td>\n",
       "      <td>182</td>\n",
       "      <td>2</td>\n",
       "      <td>US&gt;MI&gt;505</td>\n",
       "    </tr>\n",
       "  </tbody>\n",
       "</table>\n",
       "</div>"
      ],
      "text/plain": [
       "  display_id            uuid document_id timestamp platform geo_location\n",
       "0          1  cb8c55702adb93      379743        61        3    US>SC>519\n",
       "1          2  79a85fa78311b9     1794259        81        2    US>CA>807\n",
       "2          3  822932ce3d8757     1179111       182        2    US>MI>505"
      ]
     },
     "metadata": {},
     "output_type": "display_data"
    },
    {
     "name": "stdout",
     "output_type": "stream",
     "text": [
      "page_views\n"
     ]
    },
    {
     "data": {
      "text/html": [
       "<div>\n",
       "<style scoped>\n",
       "    .dataframe tbody tr th:only-of-type {\n",
       "        vertical-align: middle;\n",
       "    }\n",
       "\n",
       "    .dataframe tbody tr th {\n",
       "        vertical-align: top;\n",
       "    }\n",
       "\n",
       "    .dataframe thead th {\n",
       "        text-align: right;\n",
       "    }\n",
       "</style>\n",
       "<table border=\"1\" class=\"dataframe\">\n",
       "  <thead>\n",
       "    <tr style=\"text-align: right;\">\n",
       "      <th></th>\n",
       "      <th>uuid</th>\n",
       "      <th>document_id</th>\n",
       "      <th>timestamp</th>\n",
       "      <th>platform</th>\n",
       "      <th>geo_location</th>\n",
       "      <th>traffic_source</th>\n",
       "    </tr>\n",
       "  </thead>\n",
       "  <tbody>\n",
       "    <tr>\n",
       "      <th>0</th>\n",
       "      <td>1fd5f051fba643</td>\n",
       "      <td>120</td>\n",
       "      <td>31905835</td>\n",
       "      <td>1</td>\n",
       "      <td>RS</td>\n",
       "      <td>2</td>\n",
       "    </tr>\n",
       "    <tr>\n",
       "      <th>1</th>\n",
       "      <td>8557aa9004be3b</td>\n",
       "      <td>120</td>\n",
       "      <td>32053104</td>\n",
       "      <td>1</td>\n",
       "      <td>VN&gt;44</td>\n",
       "      <td>2</td>\n",
       "    </tr>\n",
       "    <tr>\n",
       "      <th>2</th>\n",
       "      <td>c351b277a358f0</td>\n",
       "      <td>120</td>\n",
       "      <td>54013023</td>\n",
       "      <td>1</td>\n",
       "      <td>KR&gt;12</td>\n",
       "      <td>1</td>\n",
       "    </tr>\n",
       "  </tbody>\n",
       "</table>\n",
       "</div>"
      ],
      "text/plain": [
       "             uuid document_id timestamp platform geo_location traffic_source\n",
       "0  1fd5f051fba643         120  31905835        1           RS              2\n",
       "1  8557aa9004be3b         120  32053104        1        VN>44              2\n",
       "2  c351b277a358f0         120  54013023        1        KR>12              1"
      ]
     },
     "metadata": {},
     "output_type": "display_data"
    },
    {
     "name": "stdout",
     "output_type": "stream",
     "text": [
      "page_views_sample\n"
     ]
    },
    {
     "data": {
      "text/html": [
       "<div>\n",
       "<style scoped>\n",
       "    .dataframe tbody tr th:only-of-type {\n",
       "        vertical-align: middle;\n",
       "    }\n",
       "\n",
       "    .dataframe tbody tr th {\n",
       "        vertical-align: top;\n",
       "    }\n",
       "\n",
       "    .dataframe thead th {\n",
       "        text-align: right;\n",
       "    }\n",
       "</style>\n",
       "<table border=\"1\" class=\"dataframe\">\n",
       "  <thead>\n",
       "    <tr style=\"text-align: right;\">\n",
       "      <th></th>\n",
       "      <th>uuid</th>\n",
       "      <th>document_id</th>\n",
       "      <th>timestamp</th>\n",
       "      <th>platform</th>\n",
       "      <th>geo_location</th>\n",
       "      <th>traffic_source</th>\n",
       "    </tr>\n",
       "  </thead>\n",
       "  <tbody>\n",
       "    <tr>\n",
       "      <th>0</th>\n",
       "      <td>1fd5f051fba643</td>\n",
       "      <td>120</td>\n",
       "      <td>31905835</td>\n",
       "      <td>1</td>\n",
       "      <td>RS</td>\n",
       "      <td>2</td>\n",
       "    </tr>\n",
       "    <tr>\n",
       "      <th>1</th>\n",
       "      <td>8557aa9004be3b</td>\n",
       "      <td>120</td>\n",
       "      <td>32053104</td>\n",
       "      <td>1</td>\n",
       "      <td>VN&gt;44</td>\n",
       "      <td>2</td>\n",
       "    </tr>\n",
       "    <tr>\n",
       "      <th>2</th>\n",
       "      <td>c351b277a358f0</td>\n",
       "      <td>120</td>\n",
       "      <td>54013023</td>\n",
       "      <td>1</td>\n",
       "      <td>KR&gt;12</td>\n",
       "      <td>1</td>\n",
       "    </tr>\n",
       "  </tbody>\n",
       "</table>\n",
       "</div>"
      ],
      "text/plain": [
       "             uuid document_id timestamp platform geo_location traffic_source\n",
       "0  1fd5f051fba643         120  31905835        1           RS              2\n",
       "1  8557aa9004be3b         120  32053104        1        VN>44              2\n",
       "2  c351b277a358f0         120  54013023        1        KR>12              1"
      ]
     },
     "metadata": {},
     "output_type": "display_data"
    },
    {
     "name": "stdout",
     "output_type": "stream",
     "text": [
      "promoted_content\n"
     ]
    },
    {
     "data": {
      "text/html": [
       "<div>\n",
       "<style scoped>\n",
       "    .dataframe tbody tr th:only-of-type {\n",
       "        vertical-align: middle;\n",
       "    }\n",
       "\n",
       "    .dataframe tbody tr th {\n",
       "        vertical-align: top;\n",
       "    }\n",
       "\n",
       "    .dataframe thead th {\n",
       "        text-align: right;\n",
       "    }\n",
       "</style>\n",
       "<table border=\"1\" class=\"dataframe\">\n",
       "  <thead>\n",
       "    <tr style=\"text-align: right;\">\n",
       "      <th></th>\n",
       "      <th>ad_id</th>\n",
       "      <th>document_id</th>\n",
       "      <th>campaign_id</th>\n",
       "      <th>advertiser_id</th>\n",
       "    </tr>\n",
       "  </thead>\n",
       "  <tbody>\n",
       "    <tr>\n",
       "      <th>0</th>\n",
       "      <td>1</td>\n",
       "      <td>6614</td>\n",
       "      <td>1</td>\n",
       "      <td>7</td>\n",
       "    </tr>\n",
       "    <tr>\n",
       "      <th>1</th>\n",
       "      <td>2</td>\n",
       "      <td>471467</td>\n",
       "      <td>2</td>\n",
       "      <td>7</td>\n",
       "    </tr>\n",
       "    <tr>\n",
       "      <th>2</th>\n",
       "      <td>3</td>\n",
       "      <td>7692</td>\n",
       "      <td>3</td>\n",
       "      <td>7</td>\n",
       "    </tr>\n",
       "  </tbody>\n",
       "</table>\n",
       "</div>"
      ],
      "text/plain": [
       "  ad_id document_id campaign_id advertiser_id\n",
       "0     1        6614           1             7\n",
       "1     2      471467           2             7\n",
       "2     3        7692           3             7"
      ]
     },
     "metadata": {},
     "output_type": "display_data"
    },
    {
     "name": "stdout",
     "output_type": "stream",
     "text": [
      "\n"
     ]
    }
   ],
   "source": [
    "from IPython.display import display\n",
    "tables = [\"clicks_test\", \"clicks_train\", \n",
    "          \"documents_categories\", \"documents_entities\", \"documents_meta\", \"documents_topics\", \n",
    "          \"events\", \"page_views\", \"page_views_sample\", \"promoted_content\"]\n",
    "for name in tqdm.tqdm(tables):\n",
    "    df = se.read.parquet(\"s3://ydatazian/{}.parquet\".format(name))\n",
    "    df.registerTempTable(name)\n",
    "    print(name)\n",
    "    display(df.limit(3).toPandas())"
   ]
  },
  {
   "cell_type": "markdown",
   "metadata": {},
   "source": [
    "# Prepare dataset for VW\n",
    "\n",
    "We will predict a *click* based on:\n",
    "- ad_id\n",
    "- document_id\n",
    "- campaign_id\n",
    "- advertiser_id"
   ]
  },
  {
   "cell_type": "code",
   "execution_count": 9,
   "metadata": {},
   "outputs": [
    {
     "name": "stdout",
     "output_type": "stream",
     "text": [
      "CPU times: user 3.88 ms, sys: 741 µs, total: 4.62 ms\n",
      "Wall time: 43.9 s\n"
     ]
    }
   ],
   "source": [
    "%%time\n",
    "se.sql(\"\"\"\n",
    "select \n",
    "    clicks_train.clicked,\n",
    "    clicks_train.display_id,\n",
    "    clicks_train.ad_id,\n",
    "    promoted_content.document_id,\n",
    "    promoted_content.campaign_id,\n",
    "    promoted_content.advertiser_id\n",
    "from clicks_train join promoted_content on clicks_train.ad_id = promoted_content.ad_id\n",
    "\"\"\").write.parquet(\"/train_features.parquet\", mode='overwrite')"
   ]
  },
  {
   "cell_type": "code",
   "execution_count": 10,
   "metadata": {},
   "outputs": [
    {
     "name": "stdout",
     "output_type": "stream",
     "text": [
      "+-------+----------+------+-----------+-----------+-------------+\n",
      "|clicked|display_id| ad_id|document_id|campaign_id|advertiser_id|\n",
      "+-------+----------+------+-----------+-----------+-------------+\n",
      "|      0|         1| 42337|     938164|       5969|         1499|\n",
      "|      0|         1|139684|    1085937|      17527|         2563|\n",
      "|      1|         1|144739|    1337362|      18488|         2909|\n",
      "|      0|         1|156824|     992370|       7283|         1919|\n",
      "|      0|         1|279295|    1670176|      27524|         1820|\n",
      "+-------+----------+------+-----------+-----------+-------------+\n",
      "only showing top 5 rows\n",
      "\n"
     ]
    }
   ],
   "source": [
    "se.read.parquet(\"/train_features.parquet\").show(5)"
   ]
  },
  {
   "cell_type": "code",
   "execution_count": 11,
   "metadata": {},
   "outputs": [
    {
     "name": "stdout",
     "output_type": "stream",
     "text": [
      "Row(clicked='0', display_id='1', ad_id='42337', document_id='938164', campaign_id='5969', advertiser_id='1499')\n",
      "-1 1_42337| display_id_1 ad_id_42337 document_id_938164 campaign_id_5969 advertiser_id_1499\n"
     ]
    }
   ],
   "source": [
    "# Format: [Label] [Importance] [Base] [Tag]|Namespace Features |Namespace Features ... |Namespace Features\n",
    "# https://github.com/VowpalWabbit/vowpal_wabbit/wiki/Input-format\n",
    "def vw_row_mapper(row):\n",
    "    clicked = None\n",
    "    features = []\n",
    "    for k, v in row.asDict().items():\n",
    "        if k == 'clicked':\n",
    "            clicked = '1' if v == '1' else '-1'\n",
    "        else:\n",
    "            features.append(k + \"_\" + v)\n",
    "    tag = row.display_id + \"_\" + row.ad_id\n",
    "    return \"{} {}| {}\".format(clicked, tag, \" \".join(features))\n",
    "\n",
    "r = se.read.parquet(\"/train_features.parquet\").take(1)[0]\n",
    "print(r)\n",
    "print(vw_row_mapper(r))"
   ]
  },
  {
   "cell_type": "code",
   "execution_count": 12,
   "metadata": {},
   "outputs": [
    {
     "name": "stdout",
     "output_type": "stream",
     "text": [
      "rm: `/train_features.txt': No such file or directory\n",
      "CPU times: user 26.9 ms, sys: 20.9 ms, total: 47.8 ms\n",
      "Wall time: 2min 29s\n"
     ]
    }
   ],
   "source": [
    "%%time\n",
    "! hdfs dfs -rm -r /train_features.txt\n",
    "(\n",
    "    se.read.parquet(\"/train_features.parquet\")\n",
    "    .rdd\n",
    "    .map(vw_row_mapper)\n",
    "    .saveAsTextFile(\"/train_features.txt\")\n",
    ")"
   ]
  },
  {
   "cell_type": "code",
   "execution_count": 13,
   "metadata": {},
   "outputs": [
    {
     "name": "stdout",
     "output_type": "stream",
     "text": [
      "rm: cannot remove '/mnt/train.txt': No such file or directory\n",
      "-1 1_42337| display_id_1 ad_id_42337 document_id_938164 campaign_id_5969 advertiser_id_1499\n",
      "-1 1_139684| display_id_1 ad_id_139684 document_id_1085937 campaign_id_17527 advertiser_id_2563\n",
      "1 1_144739| display_id_1 ad_id_144739 document_id_1337362 campaign_id_18488 advertiser_id_2909\n",
      "-1 1_156824| display_id_1 ad_id_156824 document_id_992370 campaign_id_7283 advertiser_id_1919\n",
      "-1 1_279295| display_id_1 ad_id_279295 document_id_1670176 campaign_id_27524 advertiser_id_1820\n"
     ]
    }
   ],
   "source": [
    "# copy file to local master node\n",
    "! rm /mnt/train.txt\n",
    "! hdfs dfs -getmerge /train_features.txt /mnt/train.txt\n",
    "# preview local file\n",
    "! head -n 5 /mnt/train.txt"
   ]
  },
  {
   "cell_type": "markdown",
   "metadata": {},
   "source": [
    "# Train VW\n",
    "https://vowpalwabbit.org/tutorials/getting_started.html\n",
    "\n",
    "https://github.com/JohnLangford/vowpal_wabbit/wiki/Command-line-arguments"
   ]
  },
  {
   "cell_type": "code",
   "execution_count": 14,
   "metadata": {},
   "outputs": [
    {
     "name": "stdout",
     "output_type": "stream",
     "text": [
      "final_regressor = model\n",
      "Enabling FTRL based optimization\n",
      "Algorithm used: Proximal-FTRL\n",
      "ftrl_alpha = 0.005\n",
      "ftrl_beta = 0.1\n",
      "Num weight bits = 24\n",
      "learning rate = 0.5\n",
      "initial_t = 0\n",
      "power_t = 0.5\n",
      "creating cache_file = /mnt/train.txt.cache\n",
      "Reading datafile = /mnt/train.txt\n",
      "num sources = 1\n",
      "average  since         example        example  current  current  current\n",
      "loss     last          counter         weight    label  predict features\n",
      "0.460142 0.460142      8000000      8000000.0  -1.0000  -1.2983        6\n",
      "0.456159 0.452175     16000000     16000000.0  -1.0000  -1.4733        6\n",
      "0.453326 0.447661     24000000     24000000.0  -1.0000  -2.3174        6\n",
      "0.452628 0.450533     32000000     32000000.0   1.0000  -0.5719        6\n",
      "0.452887 0.453924     40000000     40000000.0  -1.0000  -1.2648        6\n",
      "0.452010 0.447625     48000000     48000000.0  -1.0000  -2.6227        6\n",
      "0.451328 0.447232     56000000     56000000.0  -1.0000  -3.4451        6\n",
      "0.450649 0.445902     64000000     64000000.0  -1.0000  -1.3654        6\n",
      "0.450373 0.448160     72000000     72000000.0  -1.0000  -1.4114        6\n",
      "0.449983 0.446471     80000000     80000000.0   1.0000  -1.4889        6\n",
      "\n",
      "finished run\n",
      "number of examples = 87141731\n",
      "weighted example sum = 87141731.000000\n",
      "weighted label sum = -53392545.000000\n",
      "average loss = 0.450146\n",
      "best constant = -1.426495\n",
      "best constant's loss = 0.491466\n",
      "total feature number = 522850386\n"
     ]
    }
   ],
   "source": [
    "! ./vw -d /mnt/train.txt -b 24 -c -k --ftrl --passes 1 -f model --holdout_off --loss_function logistic --random_seed 42 --progress 8000000"
   ]
  },
  {
   "cell_type": "code",
   "execution_count": 15,
   "metadata": {},
   "outputs": [
    {
     "name": "stdout",
     "output_type": "stream",
     "text": [
      "only testing\n",
      "predictions = /mnt/predictions.txt\n",
      "Enabling FTRL based optimization\n",
      "Algorithm used: Proximal-FTRL\n",
      "ftrl_alpha = 0.005\n",
      "ftrl_beta = 0.1\n",
      "Num weight bits = 24\n",
      "learning rate = 0.5\n",
      "initial_t = 0\n",
      "power_t = 0.5\n",
      "using no cache\n",
      "Reading datafile = /mnt/test.txt\n",
      "num sources = 1\n",
      "average  since         example        example  current  current  current\n",
      "loss     last          counter         weight    label  predict features\n",
      "warning: ? is not a good float, replacing with 0\n",
      "warning: ? is not a good float, replacing with 0\n",
      "\n",
      "finished run\n",
      "number of examples = 2\n",
      "weighted example sum = 2.000000\n",
      "weighted label sum = 0.000000\n",
      "average loss = 5.674478\n",
      "total feature number = 10\n",
      "0.319262 tag1\n",
      "0.036172 tag2\n"
     ]
    }
   ],
   "source": [
    "# make prediction with VW\n",
    "! echo \"? tag1| ad_id_144739 document_id_1337362 campaign_id_18488 advertiser_id_2909\" > /mnt/test.txt\n",
    "! echo \"? tag2| ad_id_156824 document_id_992370 campaign_id_7283 advertiser_id_1919\" >> /mnt/test.txt\n",
    "! ./vw -d /mnt/test.txt -i model -t -k -p /mnt/predictions.txt --progress 1000000 --link=logistic\n",
    "# predicted probabilities of \"1\" class\n",
    "! cat /mnt/predictions.txt"
   ]
  },
  {
   "cell_type": "markdown",
   "metadata": {},
   "source": [
    "# Homework 2: Baseline VW model\n",
    "\n",
    "Train a baseline model using the following features:\n",
    "- **clicked**\n",
    "- geo_location features (country, state, dma)\n",
    "- day_of_week (from timestamp, use *date.isoweekday()*)\n",
    "- ad_id\n",
    "- campaign_id\n",
    "- advertiser_id\n",
    "- ad_document_id\n",
    "- display_document_id\n",
    "- platform\n",
    "\n",
    "Make submission to Kaggle to know your leaderboard score\n",
    "\n",
    "If you want to create a dev set, make a 90%/10% split of training data by display_id"
   ]
  },
  {
   "cell_type": "markdown",
   "metadata": {},
   "source": [
    "# Submitting to Kaggle\n",
    "\n",
    "Obtain Kaggle API token: https://github.com/Kaggle/kaggle-api#api-credentials\n",
    "\n",
    "Making a submission: https://github.com/Kaggle/kaggle-api#submit-to-a-competition"
   ]
  },
  {
   "cell_type": "code",
   "execution_count": 52,
   "metadata": {},
   "outputs": [
    {
     "name": "stdout",
     "output_type": "stream",
     "text": [
      "mkdir: cannot create directory '/home/hadoop/.kaggle': File exists\n",
      "{\"username\":\"acohn74\",\"key\":\"5eee26e60a1c2cb609c4a7bdfd5f937d\"}\n"
     ]
    }
   ],
   "source": [
    "! mkdir ~/.kaggle\n",
    "! touch ~/.kaggle/kaggle.json\n",
    "! echo '{\"username\":\"acohn74\",\"key\":\"5eee26e60a1c2cb609c4a7bdfd5f937d\"}' > ~/.kaggle/kaggle.json\n",
    "! cat ~/.kaggle/kaggle.json\n",
    "! chmod 600 /home/hadoop/.kaggle/kaggle.json"
   ]
  },
  {
   "cell_type": "code",
   "execution_count": 40,
   "metadata": {},
   "outputs": [
    {
     "name": "stdout",
     "output_type": "stream",
     "text": [
      "download: s3://ydatazian/sample_submission.csv to ./sample_submission.csv\n"
     ]
    }
   ],
   "source": [
    "! aws s3 cp s3://ydatazian/sample_submission.csv ."
   ]
  },
  {
   "cell_type": "code",
   "execution_count": 41,
   "metadata": {},
   "outputs": [
    {
     "name": "stdout",
     "output_type": "stream",
     "text": [
      "display_id,ad_id\r\n",
      "16874594,66758 150083 162754 170392 172888 180797\r\n",
      "16874595,8846 30609 143982\r\n",
      "16874596,11430 57197 132820 153260 173005 288385 289122 289915\r\n",
      "16874597,137858 143981 155945 180965 182039 285834 305790 308836\r\n"
     ]
    }
   ],
   "source": [
    "# https://www.kaggle.com/c/outbrain-click-prediction/overview/evaluation\n",
    "# For each display_id in the test set, you must predict a space-delimited list of ad_ids, \n",
    "# ordered by decreasing likelihood of being clicked.\n",
    "! head -n 5 ./sample_submission.csv"
   ]
  },
  {
   "cell_type": "code",
   "execution_count": 42,
   "metadata": {},
   "outputs": [
    {
     "name": "stdout",
     "output_type": "stream",
     "text": [
      "CPU times: user 3.01 ms, sys: 737 µs, total: 3.75 ms\n",
      "Wall time: 43.8 s\n"
     ]
    }
   ],
   "source": [
    "%%time\n",
    "se.sql(\"\"\"\n",
    "select \n",
    "    \"0\" as clicked,\n",
    "    clicks_test.display_id,\n",
    "    clicks_test.ad_id,\n",
    "    promoted_content.document_id,\n",
    "    promoted_content.campaign_id,\n",
    "    promoted_content.advertiser_id\n",
    "from clicks_test join promoted_content on clicks_test.ad_id = promoted_content.ad_id\n",
    "\"\"\").write.parquet(\"/test_features.parquet\", mode='overwrite')"
   ]
  },
  {
   "cell_type": "code",
   "execution_count": 43,
   "metadata": {},
   "outputs": [
    {
     "name": "stdout",
     "output_type": "stream",
     "text": [
      "rm: `/test_features.txt': No such file or directory\n",
      "CPU times: user 22.7 ms, sys: 14.6 ms, total: 37.3 ms\n",
      "Wall time: 2min 23s\n"
     ]
    }
   ],
   "source": [
    "%%time\n",
    "! hdfs dfs -rm -r /test_features.txt\n",
    "(\n",
    "    se.read.parquet(\"/test_features.parquet\")\n",
    "    .rdd\n",
    "    .map(vw_row_mapper)\n",
    "    .saveAsTextFile(\"/test_features.txt\")\n",
    ")"
   ]
  },
  {
   "cell_type": "code",
   "execution_count": 44,
   "metadata": {},
   "outputs": [
    {
     "name": "stdout",
     "output_type": "stream",
     "text": [
      "-1 16874594_66758| display_id_16874594 ad_id_66758 document_id_1051283 campaign_id_8949 advertiser_id_555\r\n",
      "-1 16874594_150083| display_id_16874594 ad_id_150083 document_id_1358132 campaign_id_19045 advertiser_id_1913\r\n",
      "-1 16874594_162754| display_id_16874594 ad_id_162754 document_id_1292723 campaign_id_17770 advertiser_id_2391\r\n",
      "-1 16874594_170392| display_id_16874594 ad_id_170392 document_id_1083829 campaign_id_20943 advertiser_id_1731\r\n",
      "-1 16874594_172888| display_id_16874594 ad_id_172888 document_id_1433954 campaign_id_1384 advertiser_id_16\r\n"
     ]
    }
   ],
   "source": [
    "# copy file to local master node\n",
    "! rm /mnt/test.txt\n",
    "! hdfs dfs -getmerge /test_features.txt /mnt/test.txt\n",
    "# preview local file\n",
    "! head -n 5 /mnt/test.txt"
   ]
  },
  {
   "cell_type": "code",
   "execution_count": 45,
   "metadata": {
    "scrolled": true
   },
   "outputs": [
    {
     "name": "stdout",
     "output_type": "stream",
     "text": [
      "only testing\n",
      "predictions = /mnt/predictions.txt\n",
      "Enabling FTRL based optimization\n",
      "Algorithm used: Proximal-FTRL\n",
      "ftrl_alpha = 0.005\n",
      "ftrl_beta = 0.1\n",
      "Num weight bits = 24\n",
      "learning rate = 0.5\n",
      "initial_t = 0\n",
      "power_t = 0.5\n",
      "using no cache\n",
      "Reading datafile = /mnt/test.txt\n",
      "num sources = 1\n",
      "average  since         example        example  current  current  current\n",
      "loss     last          counter         weight    label  predict features\n",
      "0.882659 0.882659      1000000      1000000.0  -1.0000   0.0992        6\n",
      "0.892980 0.903301      2000000      2000000.0  -1.0000   0.2038        6\n",
      "0.910004 0.944050      3000000      3000000.0  -1.0000   0.1904        6\n",
      "0.930789 0.993147      4000000      4000000.0  -1.0000   0.1299        6\n",
      "0.940655 0.980117      5000000      5000000.0  -1.0000   0.2314        6\n",
      "0.936158 0.913676      6000000      6000000.0  -1.0000   0.2526        6\n",
      "0.931499 0.903542      7000000      7000000.0  -1.0000   0.1489        6\n",
      "0.934748 0.957494      8000000      8000000.0  -1.0000   0.1199        6\n",
      "0.934697 0.934290      9000000      9000000.0  -1.0000   0.2714        6\n",
      "0.933664 0.924362     10000000     10000000.0  -1.0000   0.4612        6\n",
      "0.933528 0.932164     11000000     11000000.0  -1.0000   0.0987        6\n",
      "0.939397 1.003959     12000000     12000000.0  -1.0000   0.0323        6\n",
      "0.937441 0.913971     13000000     13000000.0  -1.0000   0.2975        6\n",
      "0.937399 0.936856     14000000     14000000.0  -1.0000   0.4423        6\n",
      "0.932597 0.865367     15000000     15000000.0  -1.0000   0.2861        6\n",
      "0.927585 0.852402     16000000     16000000.0  -1.0000   0.1947        6\n",
      "0.908723 0.606928     17000000     17000000.0  -1.0000   0.3701        6\n",
      "0.903690 0.818129     18000000     18000000.0  -1.0000   0.1702        6\n",
      "0.903701 0.903911     19000000     19000000.0  -1.0000   0.1761        6\n",
      "0.906196 0.953598     20000000     20000000.0  -1.0000   0.1551        6\n",
      "0.908432 0.953153     21000000     21000000.0  -1.0000   0.1543        6\n",
      "0.910030 0.943583     22000000     22000000.0  -1.0000   0.1971        6\n",
      "0.912417 0.964925     23000000     23000000.0  -1.0000   0.0581        6\n",
      "0.912520 0.914894     24000000     24000000.0  -1.0000   0.1630        6\n",
      "0.902645 0.665640     25000000     25000000.0  -1.0000   0.0789        6\n",
      "0.894189 0.682787     26000000     26000000.0  -1.0000   0.1098        6\n",
      "0.891432 0.819747     27000000     27000000.0  -1.0000   0.1875        6\n",
      "0.890202 0.857004     28000000     28000000.0  -1.0000   0.0726        6\n",
      "0.889954 0.882996     29000000     29000000.0  -1.0000   0.0642        6\n",
      "0.890598 0.909275     30000000     30000000.0  -1.0000   0.2127        6\n",
      "0.892062 0.935984     31000000     31000000.0  -1.0000   0.2621        6\n",
      "0.893971 0.953158     32000000     32000000.0  -1.0000   0.1908        6\n",
      "\n",
      "finished run\n",
      "number of examples = 32225162\n",
      "weighted example sum = 32225162.000000\n",
      "weighted label sum = -32225162.000000\n",
      "average loss = 0.893911\n",
      "best constant = -1.000000\n",
      "best constant's loss = 0.000000\n",
      "total feature number = 193350972\n",
      "0.081203 16874594_66758\n",
      "0.067638 16874594_150083\n",
      "0.214068 16874594_162754\n",
      "0.316797 16874594_170392\n",
      "0.312522 16874594_172888\n"
     ]
    }
   ],
   "source": [
    "! ./vw -d /mnt/test.txt -i model -t -k -p /mnt/predictions.txt --progress 1000000 --link=logistic\n",
    "# predicted probabilities of \"1\" class\n",
    "! head -n 5 /mnt/predictions.txt"
   ]
  },
  {
   "cell_type": "code",
   "execution_count": 46,
   "metadata": {},
   "outputs": [
    {
     "name": "stdout",
     "output_type": "stream",
     "text": [
      "32225162 /mnt/predictions.txt\r\n"
     ]
    }
   ],
   "source": [
    "! wc -l /mnt/predictions.txt"
   ]
  },
  {
   "cell_type": "code",
   "execution_count": 47,
   "metadata": {},
   "outputs": [
    {
     "data": {
      "application/vnd.jupyter.widget-view+json": {
       "model_id": "e7c414029fe24be5a453aa9937a4e8fd",
       "version_major": 2,
       "version_minor": 0
      },
      "text/plain": [
       "HBox(children=(FloatProgress(value=1.0, bar_style='info', max=1.0), HTML(value='')))"
      ]
     },
     "metadata": {},
     "output_type": "display_data"
    },
    {
     "name": "stdout",
     "output_type": "stream",
     "text": [
      "\n"
     ]
    }
   ],
   "source": [
    "from collections import defaultdict\n",
    "scores_by_display_id = defaultdict(dict)\n",
    "for line in tqdm.tqdm(open('/mnt/predictions.txt')):\n",
    "    score, tag = line.strip().split(\" \")\n",
    "    score = float(score)\n",
    "    display_id, ad_id = tag.split(\"_\")\n",
    "    scores_by_display_id[display_id][ad_id] = score"
   ]
  },
  {
   "cell_type": "code",
   "execution_count": 48,
   "metadata": {},
   "outputs": [
    {
     "data": {
      "application/vnd.jupyter.widget-view+json": {
       "model_id": "adde188f3dd841b69d598201a8f80d9d",
       "version_major": 2,
       "version_minor": 0
      },
      "text/plain": [
       "HBox(children=(FloatProgress(value=0.0, max=6245533.0), HTML(value='')))"
      ]
     },
     "metadata": {},
     "output_type": "display_data"
    },
    {
     "name": "stdout",
     "output_type": "stream",
     "text": [
      "\n"
     ]
    }
   ],
   "source": [
    "with open(\"submission.txt\", \"w\") as f:\n",
    "    f.write(\"display_id,ad_id\\n\")\n",
    "    for k, vs in tqdm.tqdm_notebook(scores_by_display_id.items()):\n",
    "        f.write(\"{},{}\\n\".format(\n",
    "            k, \n",
    "            \" \".join([v[0] for v in sorted(vs.items(), key=lambda x: -x[1])])\n",
    "        ))"
   ]
  },
  {
   "cell_type": "code",
   "execution_count": 53,
   "metadata": {},
   "outputs": [
    {
     "name": "stdout",
     "output_type": "stream",
     "text": [
      "100%|########################################| 260M/260M [00:05<00:00, 49.0MB/s]\n",
      "Successfully submitted to Outbrain Click Prediction"
     ]
    }
   ],
   "source": [
    "! kaggle competitions submit -f submission.txt outbrain-click-prediction -m \"baseline\""
   ]
  },
  {
   "cell_type": "markdown",
   "metadata": {},
   "source": [
    "## My Submission"
   ]
  },
  {
   "cell_type": "markdown",
   "metadata": {},
   "source": [
    "### Training data & Feature Engineering"
   ]
  },
  {
   "cell_type": "code",
   "execution_count": 213,
   "metadata": {},
   "outputs": [
    {
     "name": "stdout",
     "output_type": "stream",
     "text": [
      "CPU times: user 8.56 ms, sys: 93 µs, total: 8.65 ms\n",
      "Wall time: 1min 52s\n"
     ]
    }
   ],
   "source": [
    "%%time\n",
    "se.sql(\"\"\"\n",
    "with base as (\n",
    "    select \n",
    "            clicks_train.clicked,\n",
    "            clicks_train.display_id,\n",
    "            clicks_train.ad_id,\n",
    "            cast(promoted_content.document_id as int) document_id,\n",
    "            promoted_content.campaign_id,\n",
    "            promoted_content.advertiser_id\n",
    "    from    clicks_train join promoted_content on clicks_train.ad_id = promoted_content.ad_id\n",
    "    )\n",
    ", cats as (\n",
    "    select  distinct \n",
    "            cast(page_views.document_id as int) document_id, \n",
    "            dc.top_category,\n",
    "            dt.top_topic,\n",
    "            dm.publisher_id,\n",
    "            dm.source_id,\n",
    "            dm.publish_time\n",
    "    from    page_views\n",
    "    left    join    (select distinct \n",
    "                            m.document_id, \n",
    "                            first_value(m.category_id) over (partition by m.document_id order by m.confidence_level desc) as top_category \n",
    "                    from    documents_categories m\n",
    "                    ) dc on cast(page_views.document_id as int) = cast(dc.document_id as int)\n",
    "    left    join    documents_meta as dm on cast(page_views.document_id as int) = cast(dm.document_id as int)\n",
    "    left    join    (select distinct \n",
    "                            t.document_id, \n",
    "                            first_value(t.topic_id) over (partition by t.document_id order by t.confidence_level desc) as top_topic\n",
    "                     from   documents_topics t\n",
    "                     ) as dt on cast(page_views.document_id as int) = cast(dt.document_id as int)\n",
    "    )\n",
    "\n",
    "select  base.clicked, \n",
    "        base.display_id,\n",
    "        base.ad_id,\n",
    "        base.document_id,\n",
    "        base.campaign_id,\n",
    "        base.advertiser_id,\n",
    "        events.uuid,\n",
    "        events.geo_location,\n",
    "        cast(events.timestamp as int) + 1465876799998 as timestamp,\n",
    "        events.platform,\n",
    "        Rank() over(partition by events.uuid order by timestamp asc) as click_rank,\n",
    "        cats.top_category,\n",
    "        cats.top_topic,\n",
    "        cats.publisher_id,\n",
    "        cats.source_id,\n",
    "        datediff(cats.publish_time, from_unixtime(floor((cast(events.timestamp as int) + 1465876799998)/1000))) as days_since_published\n",
    "from    base\n",
    "join    events on events.display_id = base.display_id\n",
    "left    join cats on base.document_id = cats.document_id\n",
    "\"\"\").write.parquet(\"/train_features_exp.parquet\", mode='overwrite')"
   ]
  },
  {
   "cell_type": "code",
   "execution_count": 214,
   "metadata": {},
   "outputs": [],
   "source": [
    "# %%time\n",
    "# # TODO columns from events are all null, problem in join?\n",
    "# se.sql(\"\"\"\n",
    "# with base as (\n",
    "#     select \n",
    "#             clicks_train.clicked,\n",
    "#             clicks_train.display_id,\n",
    "#             clicks_train.ad_id,\n",
    "#             promoted_content.document_id,\n",
    "#             promoted_content.campaign_id,\n",
    "#             promoted_content.advertiser_id\n",
    "#     from    clicks_train join promoted_content on clicks_train.ad_id = promoted_content.ad_id\n",
    "#     ) \n",
    "\n",
    "# \"\"\").write.parquet(\"/train_features_exp.parquet\", mode='overwrite')"
   ]
  },
  {
   "cell_type": "code",
   "execution_count": 226,
   "metadata": {},
   "outputs": [
    {
     "name": "stdout",
     "output_type": "stream",
     "text": [
      "Row(clicked='1', display_id='16757900', ad_id='156270', document_id=1388416, campaign_id='18892', advertiser_id='2623', uuid='100013af048bbf', geo_location='US>CA>807', timestamp=1466992982029, platform='3', click_rank=1, top_category=None, top_topic=None, publisher_id=None, source_id=None, days_since_published=None)\n",
      "1 16757900_156270| display_id_16757900 ad_id_156270 document_id_1388416 campaign_id_18892 advertiser_id_2623 uuid_100013af048bbf platform_3 click_rank_1 top_category_None top_topic_None publisher_id_None source_id_None days_since_published_None country_US state_CA dma_807 weekday_1 hour_2 month_6 year_2016\n"
     ]
    }
   ],
   "source": [
    "# Format: [Label] [Importance] [Base] [Tag]|Namespace Features |Namespace Features ... |Namespace Features\n",
    "# https://github.com/VowpalWabbit/vowpal_wabbit/wiki/Input-format\n",
    "def vw_row_mapper_exp(row):\n",
    "    clicked = None\n",
    "    country = None\n",
    "    state = None\n",
    "    dma = None\n",
    "    year = None\n",
    "    weekday = None\n",
    "    month = None\n",
    "    hour = None\n",
    "    features = []\n",
    "    for k, v in row.asDict().items():\n",
    "        if k == 'clicked':\n",
    "            clicked = '1' if v == '1' else '-1'\n",
    "        elif k == 'geo_location':\n",
    "            if v is None:\n",
    "                pass\n",
    "            else:\n",
    "                geo = v.split('>')\n",
    "                country = geo[0]\n",
    "                if len(geo) > 1:\n",
    "                    if geo[1].isnumeric():\n",
    "                        dma = geo[1]\n",
    "                    else:\n",
    "                        state = geo[1]\n",
    "                if len(geo) > 2:\n",
    "                    if geo[2].isnumeric():\n",
    "                        dma = geo[2]\n",
    "        elif k == 'timestamp':\n",
    "            if v is None:\n",
    "                pass\n",
    "            else:\n",
    "                d = datetime.datetime.utcfromtimestamp(v/1000)\n",
    "                month = d.month\n",
    "                weekday = d.isoweekday()\n",
    "                hour = d.hour\n",
    "                year = d.year\n",
    "        else:\n",
    "            features.append(f'{k}_{v}')\n",
    "    features.append(f'country_{country}')\n",
    "    features.append(f'state_{state}')\n",
    "    features.append(f'dma_{dma}')\n",
    "    features.append(f'weekday_{weekday}')\n",
    "    features.append(f'hour_{hour}')\n",
    "    features.append(f'month_{month}')\n",
    "    features.append(f'year_{year}')\n",
    "    tag = f'{row.display_id}_{row.ad_id}'\n",
    "    return f'{clicked} {tag}| {\" \".join(features)}'\n",
    "\n",
    "r = se.read.parquet(\"/train_features_exp.parquet\").take(1)[0]\n",
    "print(r)\n",
    "print(vw_row_mapper_exp(r))"
   ]
  },
  {
   "cell_type": "code",
   "execution_count": 227,
   "metadata": {},
   "outputs": [
    {
     "name": "stdout",
     "output_type": "stream",
     "text": [
      "Deleted /train_features_exp.txt\n",
      "1 16757900_156270| display_id_16757900 ad_id_156270 document_id_1388416 campaign_id_18892 advertiser_id_2623 uuid_100013af048bbf platform_3 click_rank_1 top_category_None top_topic_None publisher_id_None source_id_None days_since_published_None country_US state_CA dma_807 weekday_1 hour_2 month_6 year_2016\n",
      "-1 16757900_147242| display_id_16757900 ad_id_147242 document_id_1108162 campaign_id_15428 advertiser_id_2241 uuid_100013af048bbf platform_3 click_rank_1 top_category_None top_topic_None publisher_id_None source_id_None days_since_published_None country_US state_CA dma_807 weekday_1 hour_2 month_6 year_2016\n",
      "-1 16757900_7033| display_id_16757900 ad_id_7033 document_id_393333 campaign_id_530 advertiser_id_386 uuid_100013af048bbf platform_3 click_rank_1 top_category_None top_topic_None publisher_id_None source_id_None days_since_published_None country_US state_CA dma_807 weekday_1 hour_2 month_6 year_2016\n",
      "-1 8264198_232277| display_id_8264198 ad_id_232277 document_id_573399 campaign_id_115 advertiser_id_53 uuid_10015959b777b6 platform_2 click_rank_1 top_category_1403 top_topic_8 publisher_id_252 source_id_3986 days_since_published_-453 country_US state_None dma_None weekday_1 hour_17 month_6 year_2016\n",
      "-1 8264198_64255| display_id_8264198 ad_id_64255 document_id_747047 campaign_id_8568 advertiser_id_1077 uuid_10015959b777b6 platform_2 click_rank_1 top_category_None top_topic_None publisher_id_None source_id_None days_since_published_None country_US state_None dma_None weekday_1 hour_17 month_6 year_2016\n",
      "CPU times: user 453 ms, sys: 970 ms, total: 1.42 s\n",
      "Wall time: 1min 39s\n"
     ]
    }
   ],
   "source": [
    "%%time\n",
    "! hdfs dfs -rm -r /train_features_exp.txt\n",
    "(\n",
    "    se.read.parquet(\"/train_features_exp.parquet\")\n",
    "    .rdd\n",
    "    .map(vw_row_mapper_exp)\n",
    "    .saveAsTextFile(\"/train_features_exp.txt\")\n",
    ")\n",
    "# copy file to local master node\n",
    "! rm /mnt/train_exp.txt\n",
    "! hdfs dfs -getmerge /train_features_exp.txt /mnt/train_exp.txt\n",
    "# preview local file\n",
    "! head -n 5 /mnt/train_exp.txt"
   ]
  },
  {
   "cell_type": "code",
   "execution_count": 228,
   "metadata": {},
   "outputs": [
    {
     "name": "stdout",
     "output_type": "stream",
     "text": [
      "final_regressor = model\n",
      "Enabling FTRL based optimization\n",
      "Algorithm used: Proximal-FTRL\n",
      "ftrl_alpha = 0.005\n",
      "ftrl_beta = 0.1\n",
      "Num weight bits = 24\n",
      "learning rate = 0.5\n",
      "initial_t = 0\n",
      "power_t = 0.5\n",
      "creating cache_file = /mnt/train_exp.txt.cache\n",
      "Reading datafile = /mnt/train_exp.txt\n",
      "num sources = 1\n",
      "average  since         example        example  current  current  current\n",
      "loss     last          counter         weight    label  predict features\n",
      "0.460720 0.460720      8000000      8000000.0  -1.0000  -2.0834       21\n",
      "0.456452 0.452184     16000000     16000000.0  -1.0000  -1.4302       21\n",
      "0.454260 0.449877     24000000     24000000.0   1.0000  -2.0360       21\n",
      "0.452856 0.448642     32000000     32000000.0  -1.0000  -1.3743       21\n",
      "0.451806 0.447607     40000000     40000000.0   1.0000  -0.1992       21\n",
      "0.451028 0.447136     48000000     48000000.0  -1.0000  -0.9607       21\n",
      "0.450392 0.446574     56000000     56000000.0  -1.0000  -1.0457       21\n",
      "0.449882 0.446314     64000000     64000000.0  -1.0000  -2.6627       21\n",
      "0.449444 0.445944     72000000     72000000.0  -1.0000  -2.1541       21\n",
      "0.449079 0.445788     80000000     80000000.0  -1.0000  -0.3957       21\n",
      "\n",
      "finished run\n",
      "number of examples = 87141731\n",
      "weighted example sum = 87141731.000000\n",
      "weighted label sum = -53392545.000000\n",
      "average loss = 0.448785\n",
      "best constant = -1.426495\n",
      "best constant's loss = 0.491466\n",
      "total feature number = 1829976351\n"
     ]
    }
   ],
   "source": [
    "! ./vw -d /mnt/train_exp.txt -b 24 -c -k --ftrl --passes 1 -f model --holdout_off --loss_function logistic --random_seed 42 --progress 8000000"
   ]
  },
  {
   "cell_type": "markdown",
   "metadata": {},
   "source": [
    "### Test Data and Submission"
   ]
  },
  {
   "cell_type": "code",
   "execution_count": 218,
   "metadata": {},
   "outputs": [
    {
     "name": "stdout",
     "output_type": "stream",
     "text": [
      "CPU times: user 4.46 ms, sys: 4.07 ms, total: 8.53 ms\n",
      "Wall time: 1min 46s\n"
     ]
    }
   ],
   "source": [
    "%%time\n",
    "se.sql(\"\"\"\n",
    "with base as (\n",
    "select \n",
    "    \"0\" as clicked,\n",
    "    clicks_test.display_id,\n",
    "    clicks_test.ad_id,\n",
    "    promoted_content.document_id,\n",
    "    promoted_content.campaign_id,\n",
    "    promoted_content.advertiser_id\n",
    "from clicks_test join promoted_content on clicks_test.ad_id = promoted_content.ad_id\n",
    "    )\n",
    ", cats as (\n",
    "    select  distinct \n",
    "            cast(page_views.document_id as int) document_id, \n",
    "            dc.top_category,\n",
    "            dt.top_topic,\n",
    "            dm.publisher_id,\n",
    "            dm.source_id,\n",
    "            dm.publish_time\n",
    "    from    page_views\n",
    "    left    join    (select distinct \n",
    "                            m.document_id, \n",
    "                            first_value(m.category_id) over (partition by m.document_id order by m.confidence_level desc) as top_category \n",
    "                    from    documents_categories m\n",
    "                    ) dc on cast(page_views.document_id as int) = cast(dc.document_id as int)\n",
    "    left    join    documents_meta as dm on cast(page_views.document_id as int) = cast(dm.document_id as int)\n",
    "    left    join    (select distinct \n",
    "                            t.document_id, \n",
    "                            first_value(t.topic_id) over (partition by t.document_id order by t.confidence_level desc) as top_topic\n",
    "                     from   documents_topics t\n",
    "                     ) as dt on cast(page_views.document_id as int) = cast(dt.document_id as int)\n",
    "    )\n",
    "\n",
    "select  base.clicked, \n",
    "        base.display_id,\n",
    "        base.ad_id,\n",
    "        base.document_id,\n",
    "        base.campaign_id,\n",
    "        base.advertiser_id,\n",
    "        events.uuid,\n",
    "        events.geo_location,\n",
    "        cast(events.timestamp as int) + 1465876799998 as timestamp,\n",
    "        events.platform,\n",
    "        Rank() over(partition by events.uuid order by timestamp asc) as click_rank,\n",
    "        cats.top_category,\n",
    "        cats.top_topic,\n",
    "        cats.publisher_id,\n",
    "        cats.source_id,\n",
    "        datediff(cats.publish_time, from_unixtime(floor((cast(events.timestamp as int) + 1465876799998)/1000))) as days_since_published\n",
    "from    base\n",
    "join    events on events.display_id = base.display_id\n",
    "left    join cats on base.document_id = cats.document_id\n",
    "\"\"\").write.parquet(\"/test_features_exp.parquet\", mode='overwrite')"
   ]
  },
  {
   "cell_type": "code",
   "execution_count": 229,
   "metadata": {},
   "outputs": [
    {
     "name": "stdout",
     "output_type": "stream",
     "text": [
      "Deleted /test_features_exp.txt\n",
      "CPU times: user 19.5 ms, sys: 226 ms, total: 246 ms\n",
      "Wall time: 34.6 s\n"
     ]
    }
   ],
   "source": [
    "%%time\n",
    "! hdfs dfs -rm -r /test_features_exp.txt\n",
    "(\n",
    "    se.read.parquet(\"/test_features_exp.parquet\")\n",
    "    .rdd\n",
    "    .map(vw_row_mapper_exp)\n",
    "    .saveAsTextFile(\"/test_features_exp.txt\")\n",
    ")"
   ]
  },
  {
   "cell_type": "code",
   "execution_count": 230,
   "metadata": {},
   "outputs": [
    {
     "name": "stdout",
     "output_type": "stream",
     "text": [
      "-1 17199427_189845| display_id_17199427 ad_id_189845 document_id_1452059 campaign_id_22575 advertiser_id_363 uuid_1003a7cb5ec2bc platform_2 click_rank_1 top_category_None top_topic_None publisher_id_None source_id_None days_since_published_None country_GB state_None dma_None weekday_3 hour_13 month_6 year_2016\r\n",
      "-1 17199427_361989| display_id_17199427 ad_id_361989 document_id_1509901 campaign_id_26363 advertiser_id_3775 uuid_1003a7cb5ec2bc platform_2 click_rank_1 top_category_None top_topic_None publisher_id_None source_id_None days_since_published_None country_GB state_None dma_None weekday_3 hour_13 month_6 year_2016\r\n",
      "-1 17199427_187178| display_id_17199427 ad_id_187178 document_id_1467000 campaign_id_1010 advertiser_id_56 uuid_1003a7cb5ec2bc platform_2 click_rank_1 top_category_None top_topic_None publisher_id_None source_id_None days_since_published_None country_GB state_None dma_None weekday_3 hour_13 month_6 year_2016\r\n",
      "-1 17199427_186645| display_id_17199427 ad_id_186645 document_id_1464868 campaign_id_22298 advertiser_id_644 uuid_1003a7cb5ec2bc platform_2 click_rank_1 top_category_None top_topic_None publisher_id_None source_id_None days_since_published_None country_GB state_None dma_None weekday_3 hour_13 month_6 year_2016\r\n",
      "-1 17199427_153016| display_id_17199427 ad_id_153016 document_id_1360929 campaign_id_19440 advertiser_id_1559 uuid_1003a7cb5ec2bc platform_2 click_rank_1 top_category_None top_topic_None publisher_id_None source_id_None days_since_published_None country_GB state_None dma_None weekday_3 hour_13 month_6 year_2016\r\n"
     ]
    }
   ],
   "source": [
    "# copy file to local master node\n",
    "! rm /mnt/test_exp.txt\n",
    "! hdfs dfs -getmerge /test_features_exp.txt /mnt/test_exp.txt\n",
    "# preview local file\n",
    "! head -n 5 /mnt/test_exp.txt"
   ]
  },
  {
   "cell_type": "code",
   "execution_count": 231,
   "metadata": {},
   "outputs": [
    {
     "name": "stdout",
     "output_type": "stream",
     "text": [
      "only testing\n",
      "predictions = /mnt/predictions_exp.txt\n",
      "Enabling FTRL based optimization\n",
      "Algorithm used: Proximal-FTRL\n",
      "ftrl_alpha = 0.005\n",
      "ftrl_beta = 0.1\n",
      "Num weight bits = 24\n",
      "learning rate = 0.5\n",
      "initial_t = 0\n",
      "power_t = 0.5\n",
      "using no cache\n",
      "Reading datafile = /mnt/test_exp.txt\n",
      "num sources = 1\n",
      "average  since         example        example  current  current  current\n",
      "loss     last          counter         weight    label  predict features\n",
      "0.933210 0.933210      1000000      1000000.0  -1.0000   0.2608       21\n",
      "0.931804 0.930397      2000000      2000000.0  -1.0000   0.1196       21\n",
      "0.932733 0.934591      3000000      3000000.0  -1.0000   0.2330       21\n",
      "0.932298 0.930995      4000000      4000000.0  -1.0000   0.2876       21\n",
      "0.931688 0.929248      5000000      5000000.0  -1.0000   0.4692       21\n",
      "0.931754 0.932085      6000000      6000000.0  -1.0000   0.3245       21\n",
      "0.931845 0.932387      7000000      7000000.0  -1.0000   0.1586       21\n",
      "0.932141 0.934212      8000000      8000000.0  -1.0000   0.2308       21\n",
      "0.932103 0.931805      9000000      9000000.0  -1.0000   0.3897       21\n",
      "0.931819 0.929259     10000000     10000000.0  -1.0000   0.0498       21\n",
      "0.931860 0.932275     11000000     11000000.0  -1.0000   0.1226       21\n",
      "0.931767 0.930737     12000000     12000000.0  -1.0000   0.1191       21\n",
      "0.931884 0.933288     13000000     13000000.0  -1.0000   0.3791       21\n",
      "0.931824 0.931044     14000000     14000000.0  -1.0000   0.1792       21\n",
      "0.931782 0.931193     15000000     15000000.0  -1.0000   0.1296       21\n",
      "0.931799 0.932051     16000000     16000000.0  -1.0000   0.1554       21\n",
      "0.931614 0.928664     17000000     17000000.0  -1.0000   0.5537       21\n",
      "0.931464 0.928911     18000000     18000000.0  -1.0000   0.4627       21\n",
      "0.931323 0.928785     19000000     19000000.0  -1.0000   0.0759       21\n",
      "0.931235 0.929568     20000000     20000000.0  -1.0000   0.4038       21\n",
      "0.931188 0.930246     21000000     21000000.0  -1.0000   0.1000       21\n",
      "0.931238 0.932283     22000000     22000000.0  -1.0000   0.0347       21\n",
      "0.931168 0.929625     23000000     23000000.0  -1.0000   0.1618       21\n",
      "0.931214 0.932273     24000000     24000000.0  -1.0000   0.4815       21\n",
      "0.931186 0.930506     25000000     25000000.0  -1.0000   0.1824       21\n",
      "0.931080 0.928451     26000000     26000000.0  -1.0000   0.3820       21\n",
      "0.931143 0.932759     27000000     27000000.0  -1.0000   0.2192       21\n",
      "0.931216 0.933190     28000000     28000000.0  -1.0000   0.4490       21\n",
      "0.931245 0.932064     29000000     29000000.0  -1.0000   0.4012       21\n",
      "0.931236 0.930967     30000000     30000000.0  -1.0000   0.1797       21\n",
      "0.931190 0.929833     31000000     31000000.0  -1.0000   0.2448       21\n",
      "0.931167 0.930446     32000000     32000000.0  -1.0000   0.1141       21\n",
      "\n",
      "finished run\n",
      "number of examples = 32225162\n",
      "weighted example sum = 32225162.000000\n",
      "weighted label sum = -32225162.000000\n",
      "average loss = 0.931131\n",
      "best constant = -1.000000\n",
      "best constant's loss = 0.000000\n",
      "total feature number = 676728402\n",
      "0.286116 17199427_189845\n",
      "0.194883 17199427_361989\n",
      "0.121744 17199427_187178\n",
      "0.174710 17199427_186645\n",
      "0.610499 17199427_153016\n"
     ]
    }
   ],
   "source": [
    "! ./vw -d /mnt/test_exp.txt -i model -t -k -p /mnt/predictions_exp.txt --progress 1000000 --link=logistic\n",
    "# predicted probabilities of \"1\" class\n",
    "! head -n 5 /mnt/predictions_exp.txt"
   ]
  },
  {
   "cell_type": "code",
   "execution_count": 232,
   "metadata": {
    "scrolled": true
   },
   "outputs": [
    {
     "name": "stdout",
     "output_type": "stream",
     "text": [
      "32225162 /mnt/predictions_exp.txt\r\n"
     ]
    }
   ],
   "source": [
    "! wc -l /mnt/predictions_exp.txt"
   ]
  },
  {
   "cell_type": "code",
   "execution_count": 233,
   "metadata": {},
   "outputs": [
    {
     "data": {
      "application/vnd.jupyter.widget-view+json": {
       "model_id": "e380bd64abef441581e15d90f8605748",
       "version_major": 2,
       "version_minor": 0
      },
      "text/plain": [
       "HBox(children=(FloatProgress(value=1.0, bar_style='info', max=1.0), HTML(value='')))"
      ]
     },
     "metadata": {},
     "output_type": "display_data"
    },
    {
     "name": "stdout",
     "output_type": "stream",
     "text": [
      "\n"
     ]
    }
   ],
   "source": [
    "from collections import defaultdict\n",
    "scores_by_display_id = defaultdict(dict)\n",
    "for line in tqdm.tqdm(open('/mnt/predictions_exp.txt')):\n",
    "    score, tag = line.strip().split(\" \")\n",
    "    score = float(score)\n",
    "    display_id, ad_id = tag.split(\"_\")\n",
    "    scores_by_display_id[display_id][ad_id] = score"
   ]
  },
  {
   "cell_type": "code",
   "execution_count": 234,
   "metadata": {},
   "outputs": [
    {
     "data": {
      "application/vnd.jupyter.widget-view+json": {
       "model_id": "e9342224923545efad108acf5e4910c7",
       "version_major": 2,
       "version_minor": 0
      },
      "text/plain": [
       "HBox(children=(FloatProgress(value=0.0, max=6245533.0), HTML(value='')))"
      ]
     },
     "metadata": {},
     "output_type": "display_data"
    },
    {
     "name": "stdout",
     "output_type": "stream",
     "text": [
      "\n"
     ]
    }
   ],
   "source": [
    "with open(\"submission_exp.txt\", \"w\") as f:\n",
    "    f.write(\"display_id,ad_id\\n\")\n",
    "    for k, vs in tqdm.tqdm_notebook(scores_by_display_id.items()):\n",
    "        f.write(\"{},{}\\n\".format(\n",
    "            k, \n",
    "            \" \".join([v[0] for v in sorted(vs.items(), key=lambda x: -x[1])])\n",
    "        ))"
   ]
  },
  {
   "cell_type": "code",
   "execution_count": 235,
   "metadata": {},
   "outputs": [
    {
     "name": "stdout",
     "output_type": "stream",
     "text": [
      "100%|########################################| 260M/260M [00:04<00:00, 59.6MB/s]\n",
      "Successfully submitted to Outbrain Click Prediction"
     ]
    }
   ],
   "source": [
    "! kaggle competitions submit -f submission_exp.txt outbrain-click-prediction -m \"expanded-features8\""
   ]
  },
  {
   "cell_type": "code",
   "execution_count": null,
   "metadata": {},
   "outputs": [],
   "source": []
  }
 ],
 "metadata": {
  "kernelspec": {
   "display_name": "Python 3",
   "language": "python",
   "name": "python3"
  },
  "language_info": {
   "codemirror_mode": {
    "name": "ipython",
    "version": 3
   },
   "file_extension": ".py",
   "mimetype": "text/x-python",
   "name": "python",
   "nbconvert_exporter": "python",
   "pygments_lexer": "ipython3",
   "version": "3.6.8"
  }
 },
 "nbformat": 4,
 "nbformat_minor": 4
}
